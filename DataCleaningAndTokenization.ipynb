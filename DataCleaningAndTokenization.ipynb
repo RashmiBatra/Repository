{
 "cells": [
  {
   "cell_type": "code",
   "execution_count": 2,
   "metadata": {},
   "outputs": [],
   "source": [
    "import os\n",
    "import numpy as np\n",
    "import pandas as pd\n",
    "import matplotlib.pyplot as plt\n",
    "import seaborn as sns\n",
    "#import utils\n",
    "#from utils import *\n",
    "\n",
    "import snowballstemmer\n",
    "from nltk.corpus import stopwords\n",
    "\n",
    "from sklearn.preprocessing import LabelEncoder\n",
    "from sklearn.model_selection import train_test_split, cross_val_score \n",
    "from sklearn.feature_extraction.text import TfidfVectorizer\n",
    "from sklearn.linear_model import LogisticRegression\n",
    "from sklearn import metrics\n",
    "from sklearn.base import BaseEstimator, TransformerMixin\n",
    "import pandas as pd \n",
    "import numpy as np\n",
    "import re\n",
    "from sklearn.feature_extraction.text import CountVectorizer\n",
    "from sklearn.feature_extraction.text import TfidfVectorizer\n",
    "from sklearn.linear_model import LogisticRegressionCV\n",
    "from nltk.corpus import stopwords\n",
    "from nltk import PorterStemmer\n",
    "from sklearn.model_selection import train_test_split\n",
    "from sklearn.metrics import classification_report, accuracy_score, precision_score, recall_score, confusion_matrix, roc_auc_score\n",
    "import string\n",
    "import matplotlib.pyplot as plt;\n",
    "from sklearn.decomposition import TruncatedSVD\n",
    "from sklearn.neighbors import NearestNeighbors, KNeighborsClassifier\n",
    "import pandas as pd\n",
    "import matplotlib.cm as cm\n",
    "from sklearn.linear_model import LogisticRegression\n",
    "from nltk import word_tokenize,sent_tokenize\n",
    "\n",
    "import matplotlib.pyplot as plt, seaborn as sns\n",
    "from pandas.plotting import register_matplotlib_converters\n",
    "register_matplotlib_converters()\n",
    "from datetime import datetime\n",
    "import datetime\n"
   ]
  },
  {
   "cell_type": "code",
   "execution_count": 6,
   "metadata": {},
   "outputs": [],
   "source": [
    "raw_df= pd.read_csv('G:/Symbi/Dataset/TelecomPOC.csv')"
   ]
  },
  {
   "cell_type": "code",
   "execution_count": 7,
   "metadata": {},
   "outputs": [
    {
     "data": {
      "text/plain": [
       "(74, 6)"
      ]
     },
     "execution_count": 7,
     "metadata": {},
     "output_type": "execute_result"
    }
   ],
   "source": [
    "raw_df.shape"
   ]
  },
  {
   "cell_type": "code",
   "execution_count": 8,
   "metadata": {},
   "outputs": [
    {
     "data": {
      "text/plain": [
       "TweetID          0\n",
       "Vertex1          2\n",
       "Vertex2          0\n",
       "Sentiment1       0\n",
       "Relationship2    0\n",
       "Tweet            2\n",
       "dtype: int64"
      ]
     },
     "execution_count": 8,
     "metadata": {},
     "output_type": "execute_result"
    }
   ],
   "source": [
    "#Null values in Variables\n",
    "raw_df.isnull().sum()"
   ]
  },
  {
   "cell_type": "code",
   "execution_count": 9,
   "metadata": {},
   "outputs": [],
   "source": [
    "#DATA ONLY WITH Tweet Id, TEXT AND SENTIMENT\n",
    "df = raw_df[['Vertex1','TweetID','Sentiment1','Tweet']].copy()"
   ]
  },
  {
   "cell_type": "code",
   "execution_count": 10,
   "metadata": {},
   "outputs": [
    {
     "name": "stderr",
     "output_type": "stream",
     "text": [
      "<ipython-input-10-584fd8c09e34>:3: FutureWarning: Passing a negative integer is deprecated in version 1.0 and will not be supported in future version. Instead, use None to not limit the column width.\n",
      "  pd.set_option('display.max_colwidth', -1)\n"
     ]
    },
    {
     "data": {
      "text/html": [
       "<div>\n",
       "<style scoped>\n",
       "    .dataframe tbody tr th:only-of-type {\n",
       "        vertical-align: middle;\n",
       "    }\n",
       "\n",
       "    .dataframe tbody tr th {\n",
       "        vertical-align: top;\n",
       "    }\n",
       "\n",
       "    .dataframe thead th {\n",
       "        text-align: right;\n",
       "    }\n",
       "</style>\n",
       "<table border=\"1\" class=\"dataframe\">\n",
       "  <thead>\n",
       "    <tr style=\"text-align: right;\">\n",
       "      <th></th>\n",
       "      <th>Vertex1</th>\n",
       "      <th>TweetID</th>\n",
       "      <th>Sentiment1</th>\n",
       "      <th>Tweet</th>\n",
       "    </tr>\n",
       "  </thead>\n",
       "  <tbody>\n",
       "    <tr>\n",
       "      <th>40</th>\n",
       "      <td>@mymalik27</td>\n",
       "      <td>5040</td>\n",
       "      <td>Negative</td>\n",
       "      <td>worst experience with this network... Worst services even in NCR regions.. did very big mistake by porting from airtel to Jio. Worst service even in very open space area of greater noida. #jio #worst</td>\n",
       "    </tr>\n",
       "    <tr>\n",
       "      <th>38</th>\n",
       "      <td>@KirtiRR_</td>\n",
       "      <td>5038</td>\n",
       "      <td>Negative</td>\n",
       "      <td>no proper network for calling and data 9892856991</td>\n",
       "    </tr>\n",
       "    <tr>\n",
       "      <th>11</th>\n",
       "      <td>@Guptanchaankush</td>\n",
       "      <td>5011</td>\n",
       "      <td>Neutral</td>\n",
       "      <td>Hey, my outgoing js bared for some reason, please check and fix this issue ASAP</td>\n",
       "    </tr>\n",
       "    <tr>\n",
       "      <th>15</th>\n",
       "      <td>@amitenggs</td>\n",
       "      <td>5015</td>\n",
       "      <td>Negative</td>\n",
       "      <td>@jiocare, why are you not refunding security deposit for +911179626429. I have been following up with you guys since one and half month. do you rob all customers like this?</td>\n",
       "    </tr>\n",
       "    <tr>\n",
       "      <th>36</th>\n",
       "      <td>@APSharm66568674</td>\n",
       "      <td>5036</td>\n",
       "      <td>Negative</td>\n",
       "      <td>I have Airtel data card number 92 205 73 6945 I pay rupees 800 per month phone no signal it is terrible that Airtel in fact looting this money for no service return many times for no improvement compelled to surrender this connection.</td>\n",
       "    </tr>\n",
       "  </tbody>\n",
       "</table>\n",
       "</div>"
      ],
      "text/plain": [
       "             Vertex1  TweetID Sentiment1  \\\n",
       "40  @mymalik27        5040     Negative    \n",
       "38   @KirtiRR_        5038     Negative    \n",
       "11  @Guptanchaankush  5011     Neutral     \n",
       "15  @amitenggs        5015     Negative    \n",
       "36  @APSharm66568674  5036     Negative    \n",
       "\n",
       "                                                                                                                                                                                                                                         Tweet  \n",
       "40  worst experience with this network... Worst services even in NCR regions.. did very big mistake by porting from airtel to Jio. Worst service even in very open space area of greater noida. #jio #worst                                     \n",
       "38  no proper network for calling and data 9892856991                                                                                                                                                                                           \n",
       "11  Hey, my outgoing js bared for some reason, please check and fix this issue ASAP                                                                                                                                                             \n",
       "15   @jiocare, why are you not refunding security deposit for +911179626429. I have been following up with you guys since one and half month. do you rob all customers like this?                                                               \n",
       "36  I have Airtel data card number 92 205 73 6945 I pay rupees 800 per month phone no signal it is terrible that Airtel in fact looting this money for no service return many times for no improvement compelled to surrender this connection.  "
      ]
     },
     "execution_count": 10,
     "metadata": {},
     "output_type": "execute_result"
    }
   ],
   "source": [
    "#SMAPLE\n",
    "\n",
    "pd.set_option('display.max_colwidth', -1)\n",
    "df.sample(5)"
   ]
  },
  {
   "cell_type": "code",
   "execution_count": 11,
   "metadata": {},
   "outputs": [],
   "source": [
    "def clean_text(txt):\n",
    "    \n",
    "    \"\"\"\n",
    "    removing all hashtags , punctuations, stop_words  and links, also stemming words \n",
    "    \"\"\"\n",
    "    \n",
    "    txt = txt.lower()\n",
    "    def remove_stopwords(txt):\n",
    "        return [t for t in txt if t not in stop]\n",
    "    stop_words = set(stopwords.words(\"english\"))\n",
    "    txt = re.sub(r\"(?<=\\w)nt\", \"not\",txt) #change don't to do not cna't to cannot \n",
    "    txt = re.sub(r\"(@\\S+)\", \"\", txt)  # remove hashtags\n",
    "    txt = re.sub(r'\\W', ' ', str(txt)) # remove all special characters including apastrophie \n",
    "    txt = txt.translate(str.maketrans('', '', string.punctuation)) # remove punctuations \n",
    "    txt = re.sub(r'\\s+[a-zA-Z]\\s+', ' ', txt)   # remove all single characters (it's -> it s then we need to remove s)\n",
    "    txt = re.sub(r'\\s+', ' ', txt, flags=re.I) # Substituting multiple spaces with single space\n",
    "    txt = re.sub(r\"(http\\S+|http)\", \"\", txt) # remove links \n",
    "    txt = ' '.join([PorterStemmer().stem(word=word) for word in txt.split(\" \") if word not in stop_words ]) # stem & remove stop words\n",
    "    txt = ''.join([i for i in txt if not i.isdigit()]).strip() # remove digits ()\n",
    "    \n",
    "    word_tokens = word_tokenize(txt)\n",
    "\n",
    "    filtered_sentence = [w for w in word_tokens if not w in stop_words]\n",
    "\n",
    "    filtered_sentence = []\n",
    "\n",
    "    for w in word_tokens:\n",
    "        if w not in stop_words:\n",
    "            filtered_sentence.append(w)\n",
    "\n",
    "    #return word_tokens\n",
    "        \n",
    "    return txt"
   ]
  },
  {
   "cell_type": "code",
   "execution_count": 12,
   "metadata": {},
   "outputs": [
    {
     "name": "stdout",
     "output_type": "stream",
     "text": [
      "Original Text :  @jiocare absolutely no response! Was that a mere consolation? \n",
      "Processed Text :  absolut respons mere consol\n"
     ]
    }
   ],
   "source": [
    "print('Original Text : ',df['Tweet'][5])  \n",
    "print('Processed Text : ',clean_text(df['Tweet'][5]))"
   ]
  },
  {
   "cell_type": "code",
   "execution_count": null,
   "metadata": {},
   "outputs": [],
   "source": []
  }
 ],
 "metadata": {
  "kernelspec": {
   "display_name": "Python 3",
   "language": "python",
   "name": "python3"
  },
  "language_info": {
   "codemirror_mode": {
    "name": "ipython",
    "version": 3
   },
   "file_extension": ".py",
   "mimetype": "text/x-python",
   "name": "python",
   "nbconvert_exporter": "python",
   "pygments_lexer": "ipython3",
   "version": "3.8.5"
  }
 },
 "nbformat": 4,
 "nbformat_minor": 2
}
