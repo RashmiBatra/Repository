{
 "cells": [
  {
   "cell_type": "code",
   "execution_count": 4,
   "metadata": {},
   "outputs": [],
   "source": [
    "import matplotlib.pyplot as plt\n",
    "import pandas as pd\n",
    "import seaborn as sns\n",
    "import numpy as np\n",
    "import sklearn\n",
    "from sklearn import preprocessing\n",
    "\n",
    "import pyLDAvis\n",
    "from pprint import pprint\n",
    "\n",
    "from sklearn.feature_extraction.text import CountVectorizer\n",
    "from sklearn.feature_extraction.text import TfidfVectorizer\n",
    "from sklearn.pipeline import Pipeline, make_pipeline\n",
    "from sklearn.metrics import confusion_matrix, precision_score, precision_recall_curve, recall_score, f1_score\n",
    "from sklearn.naive_bayes import MultinomialNB\n",
    "from sklearn.metrics.pairwise import cosine_similarity\n",
    "from sklearn.base import BaseEstimator, TransformerMixin\n",
    "from sklearn.pipeline import FeatureUnion\n",
    "from sklearn.feature_extraction import DictVectorizer\n",
    "from sklearn.metrics import accuracy_score\n",
    "from sklearn.model_selection import GridSearchCV\n",
    "from sklearn.decomposition import LatentDirichletAllocation\n",
    "\n",
    "#from imblearn.over_sampling import SMOTE \n",
    "from os import path\n",
    "from wordcloud import WordCloud, STOPWORDS \n",
    "from PIL import Image\n",
    "from wordcloud import ImageColorGenerator\n",
    "import re\n",
    "import pickle\n",
    "import joblib\n",
    "import spacy\n",
    "\n",
    "import re\n",
    "import nltk\n",
    "from nltk.corpus import stopwords\n",
    "from nltk.stem import WordNetLemmatizer\n",
    "import string\n",
    "from nltk import word_tokenize,sent_tokenize\n",
    "from nltk.stem.porter import PorterStemmer\n",
    "#from textblob import TextBlob\n",
    "#from vaderSentiment.vaderSentiment import SentimentIntensityAnalyzer\n",
    "import datetime\n",
    "import warnings\n",
    "#import gensim\n",
    "#from gensim.utils import simple_preprocess\n",
    "#from gensim.parsing.preprocessing import STOPWORDS\n",
    "#from bs4 import BeautifulSoup\n",
    "#from gensim import corpora, models\n",
    "#from gensim.models import Phrases\n",
    "#from gensim.models import CoherenceModel\n",
    "#from gensim.corpora.dictionary import Dictionary"
   ]
  },
  {
   "cell_type": "code",
   "execution_count": 5,
   "metadata": {},
   "outputs": [
    {
     "name": "stdout",
     "output_type": "stream",
     "text": [
      "0       @Vodafone won't not let me port to @JioCare f...\n",
      "1            @jiocare Jio internet services depressing. \n",
      "2      @jiocare #jiofraud, no action in my complaint,...\n",
      "3      @jiocare Was recharging for Jio 999 plan. When...\n",
      "4      @jiocare It's been officially 10 days. Yet, no...\n",
      "                             ...                        \n",
      "318    Customer wants to block calls from a particula...\n",
      "319                                Checking IMEI status.\n",
      "320    Called to report demise of her grandmother & w...\n",
      "321                                Checking IMEI status.\n",
      "322                                               #call?\n",
      "Name: Tweet, Length: 323, dtype: object\n"
     ]
    },
    {
     "name": "stderr",
     "output_type": "stream",
     "text": [
      "C:\\Users\\Tanisha Batra\\anaconda3\\lib\\site-packages\\ipykernel\\ipkernel.py:287: DeprecationWarning: `should_run_async` will not call `transform_cell` automatically in the future. Please pass the result to `transformed_cell` argument and any exception that happen during thetransform in `preprocessing_exc_tuple` in IPython 7.17 and above.\n",
      "  and should_run_async(code)\n"
     ]
    }
   ],
   "source": [
    "raw_df= pd.read_csv(r'G:/Symbi/Dataset/TelecomPOC New.csv',encoding='utf-8', parse_dates=[1])\n",
    "raw_df.head()\n",
    "neg = raw_df[raw_df.Sentiment1=='Negative']\n",
    "\n",
    "neg = neg.reset_index(drop=True)\n",
    "text = neg.Tweet.dropna()\n",
    "print(text)\n",
    "\n",
    "#raw_df= raw_df[pd.notnull(raw_df['Tweet'])] #Delete rows where Tweet is null."
   ]
  },
  {
   "cell_type": "code",
   "execution_count": 75,
   "metadata": {},
   "outputs": [
    {
     "name": "stderr",
     "output_type": "stream",
     "text": [
      "C:\\Users\\Tanisha Batra\\anaconda3\\lib\\site-packages\\ipykernel\\ipkernel.py:287: DeprecationWarning: `should_run_async` will not call `transform_cell` automatically in the future. Please pass the result to `transformed_cell` argument and any exception that happen during thetransform in `preprocessing_exc_tuple` in IPython 7.17 and above.\n",
      "  and should_run_async(code)\n",
      "<>:36: DeprecationWarning: invalid escape sequence \\s\n",
      "<>:36: DeprecationWarning: invalid escape sequence \\s\n",
      "<ipython-input-75-903925a105e3>:36: DeprecationWarning: invalid escape sequence \\s\n",
      "  txt = [re.sub('\\s+', ' ', t) for t  in txt]     # Remove new line characters\n"
     ]
    }
   ],
   "source": [
    "def clean_tweet(RawSentence):\n",
    "    \"\"\"\n",
    "    removing all hashtags , punctuations, stop_words  and links, also stemming words \n",
    "    \"\"\"\n",
    "        \n",
    "    txt = RawSentence.lower()\n",
    "    word_tokens = word_tokenize(txt)    \n",
    "    #word_tokens = word_tokenize(RawSentence)    \n",
    "    \n",
    "    lemma = WordNetLemmatizer()\n",
    "    nlp = spacy.load('en_core_web_sm') \n",
    "\n",
    "    stop_words = set(stopwords.words('english'))\n",
    "    stop_words.update([\"amp\", \"rt\", \"cc\"]) # adding twitter specific stop words\n",
    "    #stop_words = stop_words - set(['no', 'not','nil'])  #removing No, not, nil from stop words     \n",
    "    stop_words.update([\"worst\",\"airtelpresence\",\"sunday\",\"monday\",\"tuesday\",\"wednesday\",\"thursday\",\"friday\",\"saturday\",\n",
    "                       \"weekend\",\"apparently\",\"extremely\",\"worse\",\"consolation\",\"shouldnt\",\"wont\",\"arent\",\"maybe\"\n",
    "                     \"better\", \"other\",\"instead\",\"look\",\"yesterday\",\"unacceptable\",\"miss\",\"couldnt\",\"depress\",\"let\",\n",
    "                     \"thank\",\"actually\",\"frustrate\",\"ridiculous\",\"expect\",\"pathetic\",\"terrible\",\"hathway\",\n",
    "                     \"impossible\",\"ask\",\"earlier\",\"literally\",\"years\",\"surprise\",\"horrible\",\"airtel\",\"current\",\"face\",\n",
    "                     \"upset\",\"pls\",\"one\",\"two\",\"three\",\"four\",\"empty\",\"please\",\"good\",\"finally\",\"proper\",\"development\",\n",
    "                     \"situation\",\"company\",\"believe\",\"question\",\"anymore\",\"consolation\",\"mess\",\"shock\",\"longer\",\"twitter\",\n",
    "                      \"completely\",\"finally\", \"waste\",\"shock\",\"annoy\",\"strand\",\n",
    "                      \"important\",\"break\",\"reason\", \"first\",\"second\",\"third\",\"attempt\",\"officially\",\"absolutely\",\"hello\",\"yet\",\"know\",\"jio\",\n",
    "                      \"january\",\"february\",\"march\",\"april\",\"may\",\"june\",\"july\",\"august\",\"september\",\"october\",\"november\",\"december\",\"without\",\n",
    "                      \"vodafone\",\"get\",\"vodafoneidea\",\"vicustomercare\",\"vowifi\",\"since\",\"voda\",\"reliancejio\",\"jiocare\",\"time\",\"number\"])\n",
    "   \n",
    "    txt = re.sub(r\"(@\\S+)\", \"\", txt)  # remove @\n",
    "    txt = re.sub(r'\\W', ' ', str(txt)) # remove all special characters including apastrophie \n",
    "    txt = txt.translate(str.maketrans(' ', ' ', string.punctuation)) # remove punctuations \n",
    "    txt = re.sub(r'\\s+[a-zA-Z]\\s+', ' ', txt)   # remove all single characters from within the text (it's -> it s then we need to remove s)\n",
    "    txt = re.sub(r'\\^[a-zA-Z]\\s+', ' ', txt) # remove all single characters from beginning of the text \n",
    "    txt = re.sub(r'\\s+', ' ', txt, flags=re.I) # Substituting multiple spaces with single space\n",
    "    txt = re.sub(r\"(http\\S+|http)\", \"\", txt) # remove links \n",
    "    #txt = re.sub(r'^b\\s+', '', txt) # generally used when text is scrapped online. 'b' is prefixed often indicating binary text. This is not reqd for us \n",
    "    txt = [re.sub('\\s+', ' ', t) for t  in txt]     # Remove new line characters\n",
    "    txt = ''.join([i for i in txt if not i.isdigit()]).strip() # remove digits ()\n",
    "    txt = ' '.join([i for i in txt.split(\" \") if i not in stop_words])   # split() is native tokenizer in Python\n",
    "    #txt = ' '.join(lemma.lemmatize(word) for word in txt.split())           # Used lemmatizer later \n",
    "    #txt = ' '.join([PorterStemmer().stem(word=word) for word in txt.split(\" \") if word not in stop_words ]) # stem & remove stop words\n",
    "    #soup = BeautifulSoup(txt) #to scrap information from web pages....not needed here\n",
    "    #txt = soup.get_text\n",
    "    \n",
    "    def deEmojify(inputString):\n",
    "        return inputString.encode('ascii', 'ignore').decode('ascii')\n",
    "    \n",
    "    def stem_tokens(tokens, lemmatize):\n",
    "        lemmatized = []\n",
    "        for item in tokens:\n",
    "            lemmatized.append(lemma.lemmatize(item,'v'))\n",
    "        return lemmatized\n",
    "    \n",
    "    txt = deEmojify(txt)\n",
    "    tokens =[]\n",
    "    \n",
    "    excluded_tags = {\"ADJ\", \"ADV\", \"ADP\", \"PROPN\",\"CCONJ\",\"AUX\",\"DET\",\"PRON\"}\n",
    "    for token in nlp(txt):\n",
    "        if token.pos_ not in excluded_tags:\n",
    "            tokens.append(token.text)\n",
    "    \n",
    "    lemm = stem_tokens(tokens, lemma)\n",
    "    #tokens = nltk.word_tokenize(txt)\n",
    "    tokens = [ch for ch in lemm if len(ch)>2] #remove words with character length below 3\n",
    "    #tokens = [ch for ch in tokens if len(ch)<=15] #remove words with character length above 15 \n",
    "    \n",
    "    joined_text = ' '.join(tokens)\n",
    "        \n",
    "    return joined_text"
   ]
  },
  {
   "cell_type": "code",
   "execution_count": 76,
   "metadata": {},
   "outputs": [
    {
     "name": "stderr",
     "output_type": "stream",
     "text": [
      "C:\\Users\\Tanisha Batra\\anaconda3\\lib\\site-packages\\ipykernel\\ipkernel.py:287: DeprecationWarning: `should_run_async` will not call `transform_cell` automatically in the future. Please pass the result to `transformed_cell` argument and any exception that happen during thetransform in `preprocessing_exc_tuple` in IPython 7.17 and above.\n",
      "  and should_run_async(code)\n"
     ]
    }
   ],
   "source": [
    "raw_df['clean_tweet'] = raw_df.Tweet.apply(clean_tweet)"
   ]
  },
  {
   "cell_type": "code",
   "execution_count": 141,
   "metadata": {},
   "outputs": [
    {
     "name": "stderr",
     "output_type": "stream",
     "text": [
      "C:\\Users\\Tanisha Batra\\anaconda3\\lib\\site-packages\\ipykernel\\ipkernel.py:287: DeprecationWarning: `should_run_async` will not call `transform_cell` automatically in the future. Please pass the result to `transformed_cell` argument and any exception that happen during thetransform in `preprocessing_exc_tuple` in IPython 7.17 and above.\n",
      "  and should_run_async(code)\n",
      "<>:8: DeprecationWarning: invalid escape sequence \\w\n",
      "<>:8: DeprecationWarning: invalid escape sequence \\w\n",
      "<ipython-input-141-135cc23e7235>:8: DeprecationWarning: invalid escape sequence \\w\n",
      "  vectorizer = CountVectorizer(max_df=.95, min_df=0.05, ngram_range=(1,2),token_pattern='\\w+|\\$[\\d\\.]+|\\S+')\n"
     ]
    }
   ],
   "source": [
    "# vectorize the corpus. the vectorizer object will convert text to vector form on the basis of frequency (count) of each word in text\n",
    "#Vectorization is a process of converting the text data into a machine-readable form. Each word forms the index. \n",
    "#min_df - will ignore words that are present in min_df percent or less no of documents \n",
    "#max_df - will take words that are present in max df percent of all the documents\n",
    "\n",
    "#vectorizer = CountVectorizer(max_df=0.9, min_df=10, ngram_range=(1,2), token_pattern='\\w+|\\$[\\d\\.]+|\\S+') \n",
    "#tfidf_vectorizer = TfidfVectorizer(max_df=0.9, min_df=20, ngram_range=(1,2), token_pattern='\\w+|\\$[\\d\\.]+|\\S+') \n",
    "vectorizer = CountVectorizer(max_df=.95, min_df=0.05, ngram_range=(1,2),token_pattern='\\w+|\\$[\\d\\.]+|\\S+')\n",
    "#vectorizer = CountVectorizer(max_df=0.9, min_df=0.2, ngram_range=(1,2)) \n",
    "tfidf_vectorizer = TfidfVectorizer(max_df=0.9, min_df=10, ngram_range=(1,2))\n"
   ]
  },
  {
   "cell_type": "code",
   "execution_count": 142,
   "metadata": {},
   "outputs": [
    {
     "name": "stdout",
     "output_type": "stream",
     "text": [
      "FEATURE MATRIX IS  [[0 0 0 ... 0 0 0]\n",
      " [0 0 0 ... 0 0 0]\n",
      " [0 0 0 ... 0 0 0]\n",
      " ...\n",
      " [0 0 1 ... 0 1 0]\n",
      " [0 0 0 ... 0 0 0]\n",
      " [0 0 1 ... 0 0 0]]\n",
      "Feature Matrix shape is : (362, 21)\n",
      "TF-IDF Feature Matrix shape is : (362, 60)\n",
      "TF-IDF Feature matrix not getting printed \n",
      "\n",
      "Feature names are :  ['area', 'bill', 'call', 'check', 'complaint', 'connection', 'customer', 'data', 'days', 'get', 'give', 'internet', 'issue', 'month', 'network', 'plan', 'port', 'service', 'speed', 'want', 'work']\n"
     ]
    },
    {
     "name": "stderr",
     "output_type": "stream",
     "text": [
      "C:\\Users\\Tanisha Batra\\anaconda3\\lib\\site-packages\\ipykernel\\ipkernel.py:287: DeprecationWarning: `should_run_async` will not call `transform_cell` automatically in the future. Please pass the result to `transformed_cell` argument and any exception that happen during thetransform in `preprocessing_exc_tuple` in IPython 7.17 and above.\n",
      "  and should_run_async(code)\n"
     ]
    },
    {
     "data": {
      "text/html": [
       "<div>\n",
       "<style scoped>\n",
       "    .dataframe tbody tr th:only-of-type {\n",
       "        vertical-align: middle;\n",
       "    }\n",
       "\n",
       "    .dataframe tbody tr th {\n",
       "        vertical-align: top;\n",
       "    }\n",
       "\n",
       "    .dataframe thead th {\n",
       "        text-align: right;\n",
       "    }\n",
       "</style>\n",
       "<table border=\"1\" class=\"dataframe\">\n",
       "  <thead>\n",
       "    <tr style=\"text-align: right;\">\n",
       "      <th></th>\n",
       "      <th>idf_weights</th>\n",
       "    </tr>\n",
       "  </thead>\n",
       "  <tbody>\n",
       "    <tr>\n",
       "      <th>service</th>\n",
       "      <td>2.487684</td>\n",
       "    </tr>\n",
       "    <tr>\n",
       "      <th>network</th>\n",
       "      <td>2.689710</td>\n",
       "    </tr>\n",
       "    <tr>\n",
       "      <th>call</th>\n",
       "      <td>2.783529</td>\n",
       "    </tr>\n",
       "    <tr>\n",
       "      <th>customer</th>\n",
       "      <td>2.783529</td>\n",
       "    </tr>\n",
       "    <tr>\n",
       "      <th>want</th>\n",
       "      <td>2.982380</td>\n",
       "    </tr>\n",
       "    <tr>\n",
       "      <th>speed</th>\n",
       "      <td>3.065761</td>\n",
       "    </tr>\n",
       "    <tr>\n",
       "      <th>internet</th>\n",
       "      <td>3.087740</td>\n",
       "    </tr>\n",
       "    <tr>\n",
       "      <th>plan</th>\n",
       "      <td>3.180831</td>\n",
       "    </tr>\n",
       "    <tr>\n",
       "      <th>connection</th>\n",
       "      <td>3.205523</td>\n",
       "    </tr>\n",
       "    <tr>\n",
       "      <th>port</th>\n",
       "      <td>3.339055</td>\n",
       "    </tr>\n",
       "    <tr>\n",
       "      <th>data</th>\n",
       "      <td>3.428667</td>\n",
       "    </tr>\n",
       "    <tr>\n",
       "      <th>issue</th>\n",
       "      <td>3.428667</td>\n",
       "    </tr>\n",
       "    <tr>\n",
       "      <th>bill</th>\n",
       "      <td>3.598566</td>\n",
       "    </tr>\n",
       "    <tr>\n",
       "      <th>days</th>\n",
       "      <td>3.636306</td>\n",
       "    </tr>\n",
       "    <tr>\n",
       "      <th>work</th>\n",
       "      <td>3.758909</td>\n",
       "    </tr>\n",
       "    <tr>\n",
       "      <th>area</th>\n",
       "      <td>3.803360</td>\n",
       "    </tr>\n",
       "    <tr>\n",
       "      <th>get</th>\n",
       "      <td>3.803360</td>\n",
       "    </tr>\n",
       "    <tr>\n",
       "      <th>complaint</th>\n",
       "      <td>3.803360</td>\n",
       "    </tr>\n",
       "    <tr>\n",
       "      <th>check</th>\n",
       "      <td>3.803360</td>\n",
       "    </tr>\n",
       "    <tr>\n",
       "      <th>month</th>\n",
       "      <td>3.898671</td>\n",
       "    </tr>\n",
       "    <tr>\n",
       "      <th>give</th>\n",
       "      <td>3.898671</td>\n",
       "    </tr>\n",
       "  </tbody>\n",
       "</table>\n",
       "</div>"
      ],
      "text/plain": [
       "            idf_weights\n",
       "service        2.487684\n",
       "network        2.689710\n",
       "call           2.783529\n",
       "customer       2.783529\n",
       "want           2.982380\n",
       "speed          3.065761\n",
       "internet       3.087740\n",
       "plan           3.180831\n",
       "connection     3.205523\n",
       "port           3.339055\n",
       "data           3.428667\n",
       "issue          3.428667\n",
       "bill           3.598566\n",
       "days           3.636306\n",
       "work           3.758909\n",
       "area           3.803360\n",
       "get            3.803360\n",
       "complaint      3.803360\n",
       "check          3.803360\n",
       "month          3.898671\n",
       "give           3.898671"
      ]
     },
     "execution_count": 142,
     "metadata": {},
     "output_type": "execute_result"
    }
   ],
   "source": [
    "# apply transformation. fit_transform() first fits to data, then transform it or vectorizes it.  \n",
    "from sklearn.feature_extraction.text import TfidfTransformer \n",
    "\n",
    "tf = vectorizer.fit_transform(raw_df['clean_tweet']).toarray()\n",
    "tfidf_feature_matrix = tfidf_vectorizer.fit_transform(raw_df['clean_tweet']).toarray()\n",
    "\n",
    "print(\"FEATURE MATRIX IS \",tf)\n",
    "tf_shape = tf.shape\n",
    "print(\"Feature Matrix shape is :\",tf_shape)\n",
    "\n",
    "tfidf_shape = tfidf_feature_matrix.shape\n",
    "print(\"TF-IDF Feature Matrix shape is :\",tfidf_shape)\n",
    "print(\"TF-IDF Feature matrix not getting printed \\n\")\n",
    "\n",
    "# tf_feature_names tells us what word each column in the matric represents\n",
    "tf_feature_names = vectorizer.get_feature_names()\n",
    "print(\"Feature names are : \",tf_feature_names)\n",
    "tfidf_feature_names = tfidf_vectorizer.get_feature_names()\n",
    "#print(\"TF-IDF Feature names are : \",tfidf_feature_names)\n",
    "\n",
    "tfidf_transformer=TfidfTransformer(smooth_idf=True,use_idf=True) \n",
    "tfidf_transformer.fit(tf)\n",
    "#this transformation is not needed for NMF \n",
    "\n",
    "# print idf values \n",
    "df_idf = pd.DataFrame(tfidf_transformer.idf_, index=vectorizer.get_feature_names(),columns=[\"idf_weights\"]) \n",
    " \n",
    "# sort ascending \n",
    "df_idf.sort_values(by=['idf_weights'])\n",
    "\n",
    "#model1 = LatentDirichletAllocation(n_components=number_of_topics, random_state=0,doc_topic_prior=0.1, topic_word_prior=0.01)\n",
    "#print(model1)\n",
    "#model1.fit(tf)\n",
    "#Learn model for the data X with variational Bayes method.\n",
    "# print log-likelihood\n",
    "\n",
    "#log_likelihood1 =model1.score(tf)\n",
    "#perplexity1= model1.perplexity(tf)\n",
    "#print(\"  \")\n",
    "#print(\"Log likelihood: \", log_likelihood1)\n",
    "#print(\"Perplexity: \", perplexity1)\n",
    "\n"
   ]
  },
  {
   "cell_type": "code",
   "execution_count": 79,
   "metadata": {},
   "outputs": [
    {
     "name": "stderr",
     "output_type": "stream",
     "text": [
      "C:\\Users\\Tanisha Batra\\anaconda3\\lib\\site-packages\\ipykernel\\ipkernel.py:287: DeprecationWarning: `should_run_async` will not call `transform_cell` automatically in the future. Please pass the result to `transformed_cell` argument and any exception that happen during thetransform in `preprocessing_exc_tuple` in IPython 7.17 and above.\n",
      "  and should_run_async(code)\n"
     ]
    }
   ],
   "source": [
    "#####################################\n",
    "## Utility functions to help with NMF\n",
    "# Code adapted from Sarkar text book\n",
    "#####################################\n",
    "\n",
    "# get topics with their terms and weights\n",
    "def get_topics_terms_weights(weights, feature_names):\n",
    "    feature_names = np.array(feature_names)\n",
    "    sorted_indices = np.array([list(row[::-1]) for row in np.argsort(np.abs(weights))])\n",
    "    sorted_weights = np.array([list(wt[index]) for wt, index in zip(weights, sorted_indices)])\n",
    "    sorted_terms = np.array([list(feature_names[row]) for row in sorted_indices])\n",
    "\n",
    "    topics = [np.vstack((terms.T, term_weights.T)).T for terms, term_weights in zip(sorted_terms, sorted_weights)]\n",
    "\n",
    "    return topics\n",
    "\n",
    "\n",
    "# prints components of all the topics\n",
    "# obtained from topic modeling\n",
    "def print_topics_udf(topics, total_topics=5,\n",
    "                     weight_threshold=0.0001,\n",
    "                     display_weights=False,\n",
    "                     num_terms=None):\n",
    "\n",
    "    for index in range(total_topics):\n",
    "        topic = topics[index]\n",
    "        topic = [(term, float(wt))\n",
    "                 for term, wt in topic]\n",
    "        #print(topic)\n",
    "        topic = [(word, round(wt,2))\n",
    "                 for word, wt in topic\n",
    "                 if abs(wt) >= weight_threshold]\n",
    "\n",
    "        if display_weights:\n",
    "            print('Topic #'+str(index+1)+' with weights')\n",
    "            print(topic[:num_terms]) if num_terms else topic\n",
    "        else:\n",
    "            print('Topic #'+str(index+1)+' without weights')\n",
    "            tw = [term for term, wt in topic]\n",
    "            print(tw[:num_terms]) if num_terms else tw\n",
    "\n",
    "# prints components of all the topics\n",
    "# obtained from topic modeling\n",
    "def get_topics_udf(topics, total_topics=5,\n",
    "                     weight_threshold=0.0001,\n",
    "                     num_terms=None):\n",
    "\n",
    "    topic_terms = []\n",
    "\n",
    "    for index in range(total_topics):\n",
    "        topic = topics[index]\n",
    "        topic = [(term, float(wt))\n",
    "                 for term, wt in topic]\n",
    "        #print(topic)\n",
    "        topic = [(word, round(wt,2))\n",
    "                 for word, wt in topic\n",
    "                 if abs(wt) >= weight_threshold]\n",
    "\n",
    "        topic_terms.append(topic[:num_terms] if num_terms else topic)\n",
    "\n",
    "    return topic_terms"
   ]
  },
  {
   "cell_type": "code",
   "execution_count": 110,
   "metadata": {},
   "outputs": [
    {
     "name": "stderr",
     "output_type": "stream",
     "text": [
      "C:\\Users\\Tanisha Batra\\anaconda3\\lib\\site-packages\\ipykernel\\ipkernel.py:287: DeprecationWarning: `should_run_async` will not call `transform_cell` automatically in the future. Please pass the result to `transformed_cell` argument and any exception that happen during thetransform in `preprocessing_exc_tuple` in IPython 7.17 and above.\n",
      "  and should_run_async(code)\n"
     ]
    },
    {
     "name": "stdout",
     "output_type": "stream",
     "text": [
      "Best model's params:  {'learning_decay': 0.5, 'n_components': 2}\n",
      "Best log likelihood score:  -599.1149633123309\n",
      "Model perplexity:  20.486087589800807\n"
     ]
    }
   ],
   "source": [
    "# Define Search Param\n",
    "search_params = {'n_components': [2, 3, 4, 5, 6,7,8,9,10,12,14,16,18,20], 'learning_decay': [.5, .7, .9]}  \n",
    "#n_components - no of features to be used, learning_decay - between 0.5 & 1. Corresponds to kappa - what value of previous lambda is forgotton\n",
    "\n",
    "# Init the model\n",
    "lda = LatentDirichletAllocation()\n",
    "\n",
    "# Init Grid Search class\n",
    "model2 = GridSearchCV(lda, search_params)   #loops through predefined hyperparams to fit model on training set.\n",
    "\n",
    "model2.fit(tf)\n",
    "best_lda_model = model2.best_estimator_\n",
    "print(\"Best model's params: \", model2.best_params_)\n",
    "print(\"Best log likelihood score: \", model2.best_score_)\n",
    "print(\"Model perplexity: \", best_lda_model.perplexity(tf))"
   ]
  },
  {
   "cell_type": "code",
   "execution_count": 111,
   "metadata": {},
   "outputs": [
    {
     "name": "stderr",
     "output_type": "stream",
     "text": [
      "C:\\Users\\Tanisha Batra\\anaconda3\\lib\\site-packages\\ipykernel\\ipkernel.py:287: DeprecationWarning: `should_run_async` will not call `transform_cell` automatically in the future. Please pass the result to `transformed_cell` argument and any exception that happen during thetransform in `preprocessing_exc_tuple` in IPython 7.17 and above.\n",
      "  and should_run_async(code)\n",
      "<>:2: DeprecationWarning: invalid escape sequence \\S\n",
      "<>:2: DeprecationWarning: invalid escape sequence \\S\n",
      "<ipython-input-111-80119f720312>:2: DeprecationWarning: invalid escape sequence \\S\n",
      "  df_cv_results.to_csv(\"G:\\Symbi\\Outcome\\LDAGridSearchResults.csv\", header=True, index=False, encoding='utf-8')\n"
     ]
    }
   ],
   "source": [
    "df_cv_results = pd.DataFrame(model2.cv_results_)\n",
    "df_cv_results.to_csv(\"G:\\Symbi\\Outcome\\LDAGridSearchResults.csv\", header=True, index=False, encoding='utf-8')"
   ]
  },
  {
   "cell_type": "code",
   "execution_count": 112,
   "metadata": {},
   "outputs": [
    {
     "name": "stderr",
     "output_type": "stream",
     "text": [
      "C:\\Users\\Tanisha Batra\\anaconda3\\lib\\site-packages\\ipykernel\\ipkernel.py:287: DeprecationWarning: `should_run_async` will not call `transform_cell` automatically in the future. Please pass the result to `transformed_cell` argument and any exception that happen during thetransform in `preprocessing_exc_tuple` in IPython 7.17 and above.\n",
      "  and should_run_async(code)\n"
     ]
    },
    {
     "data": {
      "text/plain": [
       "<AxesSubplot:xlabel='param_n_components', ylabel='mean_test_score'>"
      ]
     },
     "execution_count": 112,
     "metadata": {},
     "output_type": "execute_result"
    },
    {
     "data": {
      "image/png": "[encoded data removed]",
      "text/plain": [
       "<Figure size 432x288 with 1 Axes>"
      ]
     },
     "metadata": {
      "needs_background": "light"
     },
     "output_type": "display_data"
    }
   ],
   "source": [
    "sns.pointplot(x=\"param_n_components\", y=\"mean_test_score\", hue=\"param_learning_decay\", data=df_cv_results)"
   ]
  },
  {
   "cell_type": "code",
   "execution_count": 83,
   "metadata": {},
   "outputs": [
    {
     "name": "stderr",
     "output_type": "stream",
     "text": [
      "C:\\Users\\Tanisha Batra\\anaconda3\\lib\\site-packages\\ipykernel\\ipkernel.py:287: DeprecationWarning: `should_run_async` will not call `transform_cell` automatically in the future. Please pass the result to `transformed_cell` argument and any exception that happen during thetransform in `preprocessing_exc_tuple` in IPython 7.17 and above.\n",
      "  and should_run_async(code)\n"
     ]
    },
    {
     "data": {
      "text/plain": [
       "LatentDirichletAllocation(learning_decay=0.9, n_components=2)"
      ]
     },
     "execution_count": 83,
     "metadata": {},
     "output_type": "execute_result"
    }
   ],
   "source": [
    "# Take the best model\n",
    "best_lda_model"
   ]
  },
  {
   "cell_type": "code",
   "execution_count": 143,
   "metadata": {},
   "outputs": [
    {
     "name": "stderr",
     "output_type": "stream",
     "text": [
      "C:\\Users\\Tanisha Batra\\anaconda3\\lib\\site-packages\\ipykernel\\ipkernel.py:287: DeprecationWarning: `should_run_async` will not call `transform_cell` automatically in the future. Please pass the result to `transformed_cell` argument and any exception that happen during thetransform in `preprocessing_exc_tuple` in IPython 7.17 and above.\n",
      "  and should_run_async(code)\n"
     ]
    },
    {
     "name": "stdout",
     "output_type": "stream",
     "text": [
      "  \n",
      "Log likelihood:  -2844.5935907492753\n",
      "Perplexity:  26.203523970661404\n"
     ]
    }
   ],
   "source": [
    "model3=LatentDirichletAllocation(batch_size=10, doc_topic_prior=0.1,learning_method='batch', evaluate_every=1, \n",
    "            learning_offset=10.0,learning_decay=0.5,n_components=5,\n",
    "            max_doc_update_iter=50, max_iter=50, mean_change_tol=0.001,n_jobs=None, perp_tol=0.1,random_state=None, topic_word_prior=0.01,\n",
    "            total_samples=500.0, verbose=0)\n",
    "\n",
    "model3.fit(tf)\n",
    "#Learn model for the data X with variational Bayes method.\n",
    "# print log-likelihood\n",
    "\n",
    "log_likelihood3 =model3.score(tf)\n",
    "perplexity3= model3.perplexity(tf)\n",
    "print(\"  \")\n",
    "print(\"Log likelihood: \", log_likelihood3)\n",
    "print(\"Perplexity: \", perplexity3)\n",
    "\n",
    "# Learning_method = {\"batch\",\"online\"} - Batch Variational Bayes method is used in small dataset. For big dataset, online method is good\n",
    "# batch_size - Variational Bayes size \n",
    "# n_components = no of topics\n",
    "# doc_topic_prior =float, default=None. Default value = 1 / n_components. Alpha. Prior of document topic distribution theta. \n",
    "# topic_word_prior = float. Beta. Prior of topic-word distribtion. \n",
    "\n",
    "lda_output = model3.transform(tf)\n",
    "#print(lda_output)\n",
    "\n",
    "#lda_output.save('G:/Symbi/Outcome/model3.model')"
   ]
  },
  {
   "cell_type": "code",
   "execution_count": 120,
   "metadata": {},
   "outputs": [
    {
     "name": "stdout",
     "output_type": "stream",
     "text": [
      "Topic #1 with weights\n",
      "[('connection', 50.01), ('call', 42.01), ('check', 11.53), ('want', 9.23), ('days', 7.11), ('port', 6.01), ('area', 2.99), ('complaint', 0.01), ('bill', 0.01), ('customer', 0.01), ('data', 0.01), ('work', 0.01), ('get', 0.01), ('internet', 0.01), ('issue', 0.01), ('month', 0.01), ('network', 0.01), ('plan', 0.01), ('service', 0.01), ('speed', 0.01), ('give', 0.01)]\n",
      "Topic #2 with weights\n",
      "[('speed', 55.01), ('internet', 39.95), ('data', 22.73), ('network', 7.79), ('give', 7.18), ('area', 4.97), ('check', 4.75), ('complaint', 2.17), ('plan', 0.01), ('month', 0.01), ('issue', 0.01), ('port', 0.01), ('want', 0.01), ('get', 0.01), ('days', 0.01), ('service', 0.01), ('customer', 0.01), ('connection', 0.01), ('call', 0.01), ('bill', 0.01), ('work', 0.01)]\n",
      "Topic #3 with weights\n",
      "[('service', 91.01), ('bill', 28.01), ('port', 26.34), ('customer', 18.24), ('want', 10.53), ('month', 8.2), ('work', 5.76), ('give', 4.41), ('complaint', 2.8), ('issue', 0.01), ('internet', 0.01), ('network', 0.01), ('get', 0.01), ('days', 0.01), ('data', 0.01), ('plan', 0.01), ('connection', 0.01), ('check', 0.01), ('call', 0.01), ('speed', 0.01), ('area', 0.01)]\n",
      "Topic #4 with weights\n",
      "[('plan', 46.01), ('customer', 45.78), ('want', 30.26), ('get', 24.01), ('call', 24.01), ('data', 13.29), ('month', 10.33), ('check', 5.75), ('give', 2.8), ('bill', 0.01), ('complaint', 0.01), ('connection', 0.01), ('work', 0.01), ('days', 0.01), ('internet', 0.01), ('issue', 0.01), ('network', 0.01), ('port', 0.01), ('service', 0.01), ('speed', 0.01), ('area', 0.01)]\n",
      "Topic #5 with weights\n",
      "[('network', 78.23), ('issue', 35.01), ('work', 19.26), ('days', 18.91), ('complaint', 17.06), ('area', 13.07), ('internet', 10.07), ('give', 4.66), ('port', 2.68), ('month', 1.5), ('plan', 0.01), ('want', 0.01), ('get', 0.01), ('service', 0.01), ('data', 0.01), ('customer', 0.01), ('connection', 0.01), ('speed', 0.01), ('check', 0.01), ('call', 0.01), ('bill', 0.01)]\n"
     ]
    },
    {
     "name": "stderr",
     "output_type": "stream",
     "text": [
      "C:\\Users\\Tanisha Batra\\anaconda3\\lib\\site-packages\\ipykernel\\ipkernel.py:287: DeprecationWarning: `should_run_async` will not call `transform_cell` automatically in the future. Please pass the result to `transformed_cell` argument and any exception that happen during thetransform in `preprocessing_exc_tuple` in IPython 7.17 and above.\n",
      "  and should_run_async(code)\n"
     ]
    }
   ],
   "source": [
    "lda_weights = model3.components_\n",
    "topics = get_topics_terms_weights(lda_weights, tf_feature_names)\n",
    "#topics_display_list = get_topics_udf(topics, total_topics=4, num_terms=30)\n",
    "print_topics_udf(topics, total_topics=5, num_terms=30, display_weights=True)"
   ]
  },
  {
   "cell_type": "code",
   "execution_count": 121,
   "metadata": {},
   "outputs": [
    {
     "name": "stderr",
     "output_type": "stream",
     "text": [
      "C:\\Users\\Tanisha Batra\\anaconda3\\lib\\site-packages\\ipykernel\\ipkernel.py:287: DeprecationWarning: `should_run_async` will not call `transform_cell` automatically in the future. Please pass the result to `transformed_cell` argument and any exception that happen during thetransform in `preprocessing_exc_tuple` in IPython 7.17 and above.\n",
      "  and should_run_async(code)\n"
     ]
    }
   ],
   "source": [
    "tweet_txt = raw_df['clean_tweet']"
   ]
  },
  {
   "cell_type": "code",
   "execution_count": 122,
   "metadata": {},
   "outputs": [
    {
     "name": "stderr",
     "output_type": "stream",
     "text": [
      "C:\\Users\\Tanisha Batra\\anaconda3\\lib\\site-packages\\ipykernel\\ipkernel.py:287: DeprecationWarning: `should_run_async` will not call `transform_cell` automatically in the future. Please pass the result to `transformed_cell` argument and any exception that happen during thetransform in `preprocessing_exc_tuple` in IPython 7.17 and above.\n",
      "  and should_run_async(code)\n"
     ]
    },
    {
     "data": {
      "text/html": [
       "<div>\n",
       "<style scoped>\n",
       "    .dataframe tbody tr th:only-of-type {\n",
       "        vertical-align: middle;\n",
       "    }\n",
       "\n",
       "    .dataframe tbody tr th {\n",
       "        vertical-align: top;\n",
       "    }\n",
       "\n",
       "    .dataframe thead th {\n",
       "        text-align: right;\n",
       "    }\n",
       "</style>\n",
       "<table border=\"1\" class=\"dataframe\">\n",
       "  <thead>\n",
       "    <tr style=\"text-align: right;\">\n",
       "      <th></th>\n",
       "      <th>Topic_0</th>\n",
       "      <th>Topic_1</th>\n",
       "      <th>Topic_2</th>\n",
       "      <th>Topic_3</th>\n",
       "      <th>Topic_4</th>\n",
       "    </tr>\n",
       "  </thead>\n",
       "  <tbody>\n",
       "    <tr>\n",
       "      <th>Doc_0</th>\n",
       "      <td>0.07</td>\n",
       "      <td>0.07</td>\n",
       "      <td>0.73</td>\n",
       "      <td>0.07</td>\n",
       "      <td>0.07</td>\n",
       "    </tr>\n",
       "    <tr>\n",
       "      <th>Doc_1</th>\n",
       "      <td>0.04</td>\n",
       "      <td>0.44</td>\n",
       "      <td>0.44</td>\n",
       "      <td>0.04</td>\n",
       "      <td>0.04</td>\n",
       "    </tr>\n",
       "    <tr>\n",
       "      <th>Doc_2</th>\n",
       "      <td>0.07</td>\n",
       "      <td>0.07</td>\n",
       "      <td>0.07</td>\n",
       "      <td>0.07</td>\n",
       "      <td>0.73</td>\n",
       "    </tr>\n",
       "    <tr>\n",
       "      <th>Doc_3</th>\n",
       "      <td>0.03</td>\n",
       "      <td>0.03</td>\n",
       "      <td>0.03</td>\n",
       "      <td>0.89</td>\n",
       "      <td>0.03</td>\n",
       "    </tr>\n",
       "    <tr>\n",
       "      <th>Doc_4</th>\n",
       "      <td>0.07</td>\n",
       "      <td>0.07</td>\n",
       "      <td>0.07</td>\n",
       "      <td>0.07</td>\n",
       "      <td>0.73</td>\n",
       "    </tr>\n",
       "    <tr>\n",
       "      <th>Doc_5</th>\n",
       "      <td>0.20</td>\n",
       "      <td>0.20</td>\n",
       "      <td>0.20</td>\n",
       "      <td>0.20</td>\n",
       "      <td>0.20</td>\n",
       "    </tr>\n",
       "    <tr>\n",
       "      <th>Doc_6</th>\n",
       "      <td>0.07</td>\n",
       "      <td>0.07</td>\n",
       "      <td>0.07</td>\n",
       "      <td>0.07</td>\n",
       "      <td>0.73</td>\n",
       "    </tr>\n",
       "    <tr>\n",
       "      <th>Doc_7</th>\n",
       "      <td>0.02</td>\n",
       "      <td>0.40</td>\n",
       "      <td>0.02</td>\n",
       "      <td>0.30</td>\n",
       "      <td>0.26</td>\n",
       "    </tr>\n",
       "    <tr>\n",
       "      <th>Doc_8</th>\n",
       "      <td>0.04</td>\n",
       "      <td>0.04</td>\n",
       "      <td>0.04</td>\n",
       "      <td>0.04</td>\n",
       "      <td>0.84</td>\n",
       "    </tr>\n",
       "    <tr>\n",
       "      <th>Doc_9</th>\n",
       "      <td>0.04</td>\n",
       "      <td>0.04</td>\n",
       "      <td>0.04</td>\n",
       "      <td>0.44</td>\n",
       "      <td>0.44</td>\n",
       "    </tr>\n",
       "  </tbody>\n",
       "</table>\n",
       "</div>"
      ],
      "text/plain": [
       "       Topic_0  Topic_1  Topic_2  Topic_3  Topic_4\n",
       "Doc_0     0.07     0.07     0.73     0.07     0.07\n",
       "Doc_1     0.04     0.44     0.44     0.04     0.04\n",
       "Doc_2     0.07     0.07     0.07     0.07     0.73\n",
       "Doc_3     0.03     0.03     0.03     0.89     0.03\n",
       "Doc_4     0.07     0.07     0.07     0.07     0.73\n",
       "Doc_5     0.20     0.20     0.20     0.20     0.20\n",
       "Doc_6     0.07     0.07     0.07     0.07     0.73\n",
       "Doc_7     0.02     0.40     0.02     0.30     0.26\n",
       "Doc_8     0.04     0.04     0.04     0.04     0.84\n",
       "Doc_9     0.04     0.04     0.04     0.44     0.44"
      ]
     },
     "execution_count": 122,
     "metadata": {},
     "output_type": "execute_result"
    }
   ],
   "source": [
    "# column names\n",
    "topicnames = ['Topic_' + str(i) for i in range(model3.n_components)]\n",
    "\n",
    "# index names\n",
    "docnames = ['Doc_' + str(i) for i in range(len(tweet_txt))]\n",
    "\n",
    "# create a dataframe\n",
    "df_document_topic = pd.DataFrame(np.round(lda_output,2), columns=topicnames, index=docnames)\n",
    "\n",
    "df_document_topic.head(10)"
   ]
  },
  {
   "cell_type": "code",
   "execution_count": 123,
   "metadata": {},
   "outputs": [
    {
     "name": "stderr",
     "output_type": "stream",
     "text": [
      "C:\\Users\\Tanisha Batra\\anaconda3\\lib\\site-packages\\ipykernel\\ipkernel.py:287: DeprecationWarning: `should_run_async` will not call `transform_cell` automatically in the future. Please pass the result to `transformed_cell` argument and any exception that happen during thetransform in `preprocessing_exc_tuple` in IPython 7.17 and above.\n",
      "  and should_run_async(code)\n"
     ]
    }
   ],
   "source": [
    "df_document_topic['dominant_topic'] = np.argmax(df_document_topic.values, axis=1)\n",
    "df_document_topic.head(10)\n",
    "df_document_topic\n",
    "df_document_topic.to_csv('G:/Symbi/Outcome/dominant_topic.csv', index=True)\n",
    "df_document_topic.to_excel('G:/Symbi/Outcome/dominant_topic.xls', index=True)"
   ]
  },
  {
   "cell_type": "code",
   "execution_count": 124,
   "metadata": {},
   "outputs": [
    {
     "name": "stderr",
     "output_type": "stream",
     "text": [
      "C:\\Users\\Tanisha Batra\\anaconda3\\lib\\site-packages\\ipykernel\\ipkernel.py:287: DeprecationWarning: `should_run_async` will not call `transform_cell` automatically in the future. Please pass the result to `transformed_cell` argument and any exception that happen during thetransform in `preprocessing_exc_tuple` in IPython 7.17 and above.\n",
      "  and should_run_async(code)\n",
      "C:\\Users\\Tanisha Batra\\anaconda3\\lib\\site-packages\\seaborn\\_decorators.py:36: FutureWarning: Pass the following variable as a keyword arg: x. From version 0.12, the only valid positional argument will be `data`, and passing other arguments without an explicit keyword will result in an error or misinterpretation.\n",
      "  warnings.warn(\n"
     ]
    },
    {
     "data": {
      "text/plain": [
       "<AxesSubplot:xlabel='dominant_topic', ylabel='count'>"
      ]
     },
     "execution_count": 124,
     "metadata": {},
     "output_type": "execute_result"
    },
    {
     "data": {
      "image/png": "[encoded data removed]",
      "text/plain": [
       "<Figure size 432x288 with 1 Axes>"
      ]
     },
     "metadata": {
      "needs_background": "light"
     },
     "output_type": "display_data"
    }
   ],
   "source": [
    "sns.countplot(df_document_topic.dominant_topic)\n"
   ]
  },
  {
   "cell_type": "code",
   "execution_count": 125,
   "metadata": {},
   "outputs": [
    {
     "name": "stderr",
     "output_type": "stream",
     "text": [
      "C:\\Users\\Tanisha Batra\\anaconda3\\lib\\site-packages\\ipykernel\\ipkernel.py:287: DeprecationWarning: `should_run_async` will not call `transform_cell` automatically in the future. Please pass the result to `transformed_cell` argument and any exception that happen during thetransform in `preprocessing_exc_tuple` in IPython 7.17 and above.\n",
      "  and should_run_async(code)\n"
     ]
    },
    {
     "data": {
      "text/plain": [
       "(362, 21)"
      ]
     },
     "execution_count": 125,
     "metadata": {},
     "output_type": "execute_result"
    }
   ],
   "source": [
    "# components_ contains the word to topic matrix\n",
    "model3.components_.shape\n",
    "# check the shape\n",
    "tf.shape"
   ]
  },
  {
   "cell_type": "code",
   "execution_count": 127,
   "metadata": {},
   "outputs": [
    {
     "name": "stderr",
     "output_type": "stream",
     "text": [
      "C:\\Users\\Tanisha Batra\\anaconda3\\lib\\site-packages\\ipykernel\\ipkernel.py:287: DeprecationWarning: `should_run_async` will not call `transform_cell` automatically in the future. Please pass the result to `transformed_cell` argument and any exception that happen during thetransform in `preprocessing_exc_tuple` in IPython 7.17 and above.\n",
      "  and should_run_async(code)\n"
     ]
    },
    {
     "data": {
      "text/html": [
       "<div>\n",
       "<style scoped>\n",
       "    .dataframe tbody tr th:only-of-type {\n",
       "        vertical-align: middle;\n",
       "    }\n",
       "\n",
       "    .dataframe tbody tr th {\n",
       "        vertical-align: top;\n",
       "    }\n",
       "\n",
       "    .dataframe thead th {\n",
       "        text-align: right;\n",
       "    }\n",
       "</style>\n",
       "<table border=\"1\" class=\"dataframe\">\n",
       "  <thead>\n",
       "    <tr style=\"text-align: right;\">\n",
       "      <th></th>\n",
       "      <th>area</th>\n",
       "      <th>bill</th>\n",
       "      <th>call</th>\n",
       "      <th>check</th>\n",
       "      <th>complaint</th>\n",
       "      <th>connection</th>\n",
       "      <th>customer</th>\n",
       "      <th>data</th>\n",
       "      <th>days</th>\n",
       "      <th>get</th>\n",
       "      <th>give</th>\n",
       "      <th>internet</th>\n",
       "      <th>issue</th>\n",
       "      <th>month</th>\n",
       "      <th>network</th>\n",
       "      <th>plan</th>\n",
       "      <th>port</th>\n",
       "      <th>service</th>\n",
       "      <th>speed</th>\n",
       "      <th>want</th>\n",
       "    </tr>\n",
       "  </thead>\n",
       "  <tbody>\n",
       "    <tr>\n",
       "      <th>Topic_0</th>\n",
       "      <td>2.990308</td>\n",
       "      <td>0.01</td>\n",
       "      <td>42.010542</td>\n",
       "      <td>11.528542</td>\n",
       "      <td>0.010000</td>\n",
       "      <td>50.01</td>\n",
       "      <td>0.010000</td>\n",
       "      <td>0.010000</td>\n",
       "      <td>7.114254</td>\n",
       "      <td>0.01</td>\n",
       "      <td>0.010000</td>\n",
       "      <td>0.010000</td>\n",
       "      <td>0.01</td>\n",
       "      <td>0.010000</td>\n",
       "      <td>0.010000</td>\n",
       "      <td>0.01</td>\n",
       "      <td>6.009940</td>\n",
       "      <td>0.01</td>\n",
       "      <td>0.01</td>\n",
       "      <td>9.233539</td>\n",
       "    </tr>\n",
       "    <tr>\n",
       "      <th>Topic_1</th>\n",
       "      <td>4.967806</td>\n",
       "      <td>0.01</td>\n",
       "      <td>0.010000</td>\n",
       "      <td>4.752138</td>\n",
       "      <td>2.168263</td>\n",
       "      <td>0.01</td>\n",
       "      <td>0.010000</td>\n",
       "      <td>22.734904</td>\n",
       "      <td>0.010000</td>\n",
       "      <td>0.01</td>\n",
       "      <td>7.177056</td>\n",
       "      <td>39.947189</td>\n",
       "      <td>0.01</td>\n",
       "      <td>0.010000</td>\n",
       "      <td>7.794489</td>\n",
       "      <td>0.01</td>\n",
       "      <td>0.010000</td>\n",
       "      <td>0.01</td>\n",
       "      <td>55.01</td>\n",
       "      <td>0.010000</td>\n",
       "    </tr>\n",
       "    <tr>\n",
       "      <th>Topic_2</th>\n",
       "      <td>0.010000</td>\n",
       "      <td>28.01</td>\n",
       "      <td>0.010000</td>\n",
       "      <td>0.010000</td>\n",
       "      <td>2.797601</td>\n",
       "      <td>0.01</td>\n",
       "      <td>18.242686</td>\n",
       "      <td>0.010000</td>\n",
       "      <td>0.010000</td>\n",
       "      <td>0.01</td>\n",
       "      <td>4.405707</td>\n",
       "      <td>0.010000</td>\n",
       "      <td>0.01</td>\n",
       "      <td>8.201226</td>\n",
       "      <td>0.010000</td>\n",
       "      <td>0.01</td>\n",
       "      <td>26.343495</td>\n",
       "      <td>91.01</td>\n",
       "      <td>0.01</td>\n",
       "      <td>10.534087</td>\n",
       "    </tr>\n",
       "    <tr>\n",
       "      <th>Topic_3</th>\n",
       "      <td>0.010000</td>\n",
       "      <td>0.01</td>\n",
       "      <td>24.009458</td>\n",
       "      <td>5.749320</td>\n",
       "      <td>0.010000</td>\n",
       "      <td>0.01</td>\n",
       "      <td>45.777314</td>\n",
       "      <td>13.285096</td>\n",
       "      <td>0.010000</td>\n",
       "      <td>24.01</td>\n",
       "      <td>2.795747</td>\n",
       "      <td>0.010000</td>\n",
       "      <td>0.01</td>\n",
       "      <td>10.330139</td>\n",
       "      <td>0.010000</td>\n",
       "      <td>46.01</td>\n",
       "      <td>0.010000</td>\n",
       "      <td>0.01</td>\n",
       "      <td>0.01</td>\n",
       "      <td>30.262374</td>\n",
       "    </tr>\n",
       "    <tr>\n",
       "      <th>Topic_4</th>\n",
       "      <td>13.071886</td>\n",
       "      <td>0.01</td>\n",
       "      <td>0.010000</td>\n",
       "      <td>0.010000</td>\n",
       "      <td>17.064136</td>\n",
       "      <td>0.01</td>\n",
       "      <td>0.010000</td>\n",
       "      <td>0.010000</td>\n",
       "      <td>18.905746</td>\n",
       "      <td>0.01</td>\n",
       "      <td>4.661491</td>\n",
       "      <td>10.072811</td>\n",
       "      <td>35.01</td>\n",
       "      <td>1.498635</td>\n",
       "      <td>78.225511</td>\n",
       "      <td>0.01</td>\n",
       "      <td>2.676565</td>\n",
       "      <td>0.01</td>\n",
       "      <td>0.01</td>\n",
       "      <td>0.010000</td>\n",
       "    </tr>\n",
       "  </tbody>\n",
       "</table>\n",
       "</div>"
      ],
      "text/plain": [
       "              area   bill       call      check  complaint  connection  \\\n",
       "Topic_0   2.990308   0.01  42.010542  11.528542   0.010000       50.01   \n",
       "Topic_1   4.967806   0.01   0.010000   4.752138   2.168263        0.01   \n",
       "Topic_2   0.010000  28.01   0.010000   0.010000   2.797601        0.01   \n",
       "Topic_3   0.010000   0.01  24.009458   5.749320   0.010000        0.01   \n",
       "Topic_4  13.071886   0.01   0.010000   0.010000  17.064136        0.01   \n",
       "\n",
       "          customer       data       days    get      give   internet  issue  \\\n",
       "Topic_0   0.010000   0.010000   7.114254   0.01  0.010000   0.010000   0.01   \n",
       "Topic_1   0.010000  22.734904   0.010000   0.01  7.177056  39.947189   0.01   \n",
       "Topic_2  18.242686   0.010000   0.010000   0.01  4.405707   0.010000   0.01   \n",
       "Topic_3  45.777314  13.285096   0.010000  24.01  2.795747   0.010000   0.01   \n",
       "Topic_4   0.010000   0.010000  18.905746   0.01  4.661491  10.072811  35.01   \n",
       "\n",
       "             month    network   plan       port  service  speed       want  \n",
       "Topic_0   0.010000   0.010000   0.01   6.009940     0.01   0.01   9.233539  \n",
       "Topic_1   0.010000   7.794489   0.01   0.010000     0.01  55.01   0.010000  \n",
       "Topic_2   8.201226   0.010000   0.01  26.343495    91.01   0.01  10.534087  \n",
       "Topic_3  10.330139   0.010000  46.01   0.010000     0.01   0.01  30.262374  \n",
       "Topic_4   1.498635  78.225511   0.01   2.676565     0.01   0.01   0.010000  "
      ]
     },
     "execution_count": 127,
     "metadata": {},
     "output_type": "execute_result"
    }
   ],
   "source": [
    "# Topic - Keyword matrix. Each topic keywords\n",
    "\n",
    "df_topic_keywords = pd.DataFrame(model3.components_)\n",
    "\n",
    "# assign column and index\n",
    "df_topic_keywords.columns = vectorizer.get_feature_names()\n",
    "df_topic_keywords.index = topicnames\n",
    "\n",
    "# check the head\n",
    "df_topic_keywords.iloc[:,:20]"
   ]
  },
  {
   "cell_type": "code",
   "execution_count": 128,
   "metadata": {},
   "outputs": [
    {
     "name": "stderr",
     "output_type": "stream",
     "text": [
      "C:\\Users\\Tanisha Batra\\anaconda3\\lib\\site-packages\\ipykernel\\ipkernel.py:287: DeprecationWarning: `should_run_async` will not call `transform_cell` automatically in the future. Please pass the result to `transformed_cell` argument and any exception that happen during thetransform in `preprocessing_exc_tuple` in IPython 7.17 and above.\n",
      "  and should_run_async(code)\n"
     ]
    },
    {
     "data": {
      "text/plain": [
       "[array(['connection', 'call', 'check', 'want', 'days', 'port', 'area',\n",
       "        'complaint', 'speed', 'service', 'plan', 'network', 'month',\n",
       "        'give', 'internet', 'get', 'data', 'customer', 'bill', 'issue'],\n",
       "       dtype='<U10'),\n",
       " array(['speed', 'internet', 'data', 'network', 'give', 'area', 'check',\n",
       "        'complaint', 'customer', 'days', 'get', 'want', 'issue', 'month',\n",
       "        'call', 'plan', 'port', 'service', 'bill', 'connection'],\n",
       "       dtype='<U10'),\n",
       " array(['service', 'bill', 'port', 'customer', 'want', 'month', 'work',\n",
       "        'give', 'complaint', 'days', 'get', 'connection', 'internet',\n",
       "        'issue', 'network', 'plan', 'check', 'call', 'speed', 'data'],\n",
       "       dtype='<U10'),\n",
       " array(['plan', 'customer', 'want', 'get', 'call', 'data', 'month',\n",
       "        'check', 'give', 'speed', 'service', 'port', 'network', 'area',\n",
       "        'internet', 'days', 'connection', 'complaint', 'bill', 'issue'],\n",
       "       dtype='<U10'),\n",
       " array(['network', 'issue', 'work', 'days', 'complaint', 'area',\n",
       "        'internet', 'give', 'port', 'month', 'customer', 'data', 'check',\n",
       "        'get', 'want', 'call', 'bill', 'plan', 'service', 'speed'],\n",
       "       dtype='<U10')]"
      ]
     },
     "execution_count": 128,
     "metadata": {},
     "output_type": "execute_result"
    }
   ],
   "source": [
    "# Show top n keywords for each topic\n",
    "#vectorizer=vectorizer, \n",
    "#lda_model=model3, \n",
    "n_words=20\n",
    "keywords = np.array(vectorizer.get_feature_names())\n",
    "\n",
    "topic_keywords = []\n",
    "for topic_weights in model3.components_:\n",
    "    top_keyword_locs = (-topic_weights).argsort()[:n_words]\n",
    "    topic_keywords.append(keywords.take(top_keyword_locs))\n",
    "    \n",
    "topic_keywords"
   ]
  },
  {
   "cell_type": "code",
   "execution_count": 129,
   "metadata": {},
   "outputs": [
    {
     "name": "stderr",
     "output_type": "stream",
     "text": [
      "C:\\Users\\Tanisha Batra\\anaconda3\\lib\\site-packages\\ipykernel\\ipkernel.py:287: DeprecationWarning: `should_run_async` will not call `transform_cell` automatically in the future. Please pass the result to `transformed_cell` argument and any exception that happen during thetransform in `preprocessing_exc_tuple` in IPython 7.17 and above.\n",
      "  and should_run_async(code)\n"
     ]
    },
    {
     "data": {
      "text/html": [
       "<div>\n",
       "<style scoped>\n",
       "    .dataframe tbody tr th:only-of-type {\n",
       "        vertical-align: middle;\n",
       "    }\n",
       "\n",
       "    .dataframe tbody tr th {\n",
       "        vertical-align: top;\n",
       "    }\n",
       "\n",
       "    .dataframe thead th {\n",
       "        text-align: right;\n",
       "    }\n",
       "</style>\n",
       "<table border=\"1\" class=\"dataframe\">\n",
       "  <thead>\n",
       "    <tr style=\"text-align: right;\">\n",
       "      <th></th>\n",
       "      <th>Word 0</th>\n",
       "      <th>Word 1</th>\n",
       "      <th>Word 2</th>\n",
       "      <th>Word 3</th>\n",
       "      <th>Word 4</th>\n",
       "      <th>Word 5</th>\n",
       "      <th>Word 6</th>\n",
       "      <th>Word 7</th>\n",
       "      <th>Word 8</th>\n",
       "      <th>Word 9</th>\n",
       "      <th>Word 10</th>\n",
       "      <th>Word 11</th>\n",
       "      <th>Word 12</th>\n",
       "      <th>Word 13</th>\n",
       "      <th>Word 14</th>\n",
       "      <th>Word 15</th>\n",
       "      <th>Word 16</th>\n",
       "      <th>Word 17</th>\n",
       "      <th>Word 18</th>\n",
       "      <th>Word 19</th>\n",
       "    </tr>\n",
       "  </thead>\n",
       "  <tbody>\n",
       "    <tr>\n",
       "      <th>Topic 0</th>\n",
       "      <td>connection</td>\n",
       "      <td>call</td>\n",
       "      <td>check</td>\n",
       "      <td>want</td>\n",
       "      <td>days</td>\n",
       "      <td>port</td>\n",
       "      <td>area</td>\n",
       "      <td>complaint</td>\n",
       "      <td>speed</td>\n",
       "      <td>service</td>\n",
       "      <td>plan</td>\n",
       "      <td>network</td>\n",
       "      <td>month</td>\n",
       "      <td>give</td>\n",
       "      <td>internet</td>\n",
       "      <td>get</td>\n",
       "      <td>data</td>\n",
       "      <td>customer</td>\n",
       "      <td>bill</td>\n",
       "      <td>issue</td>\n",
       "    </tr>\n",
       "    <tr>\n",
       "      <th>Topic 1</th>\n",
       "      <td>speed</td>\n",
       "      <td>internet</td>\n",
       "      <td>data</td>\n",
       "      <td>network</td>\n",
       "      <td>give</td>\n",
       "      <td>area</td>\n",
       "      <td>check</td>\n",
       "      <td>complaint</td>\n",
       "      <td>customer</td>\n",
       "      <td>days</td>\n",
       "      <td>get</td>\n",
       "      <td>want</td>\n",
       "      <td>issue</td>\n",
       "      <td>month</td>\n",
       "      <td>call</td>\n",
       "      <td>plan</td>\n",
       "      <td>port</td>\n",
       "      <td>service</td>\n",
       "      <td>bill</td>\n",
       "      <td>connection</td>\n",
       "    </tr>\n",
       "    <tr>\n",
       "      <th>Topic 2</th>\n",
       "      <td>service</td>\n",
       "      <td>bill</td>\n",
       "      <td>port</td>\n",
       "      <td>customer</td>\n",
       "      <td>want</td>\n",
       "      <td>month</td>\n",
       "      <td>work</td>\n",
       "      <td>give</td>\n",
       "      <td>complaint</td>\n",
       "      <td>days</td>\n",
       "      <td>get</td>\n",
       "      <td>connection</td>\n",
       "      <td>internet</td>\n",
       "      <td>issue</td>\n",
       "      <td>network</td>\n",
       "      <td>plan</td>\n",
       "      <td>check</td>\n",
       "      <td>call</td>\n",
       "      <td>speed</td>\n",
       "      <td>data</td>\n",
       "    </tr>\n",
       "    <tr>\n",
       "      <th>Topic 3</th>\n",
       "      <td>plan</td>\n",
       "      <td>customer</td>\n",
       "      <td>want</td>\n",
       "      <td>get</td>\n",
       "      <td>call</td>\n",
       "      <td>data</td>\n",
       "      <td>month</td>\n",
       "      <td>check</td>\n",
       "      <td>give</td>\n",
       "      <td>speed</td>\n",
       "      <td>service</td>\n",
       "      <td>port</td>\n",
       "      <td>network</td>\n",
       "      <td>area</td>\n",
       "      <td>internet</td>\n",
       "      <td>days</td>\n",
       "      <td>connection</td>\n",
       "      <td>complaint</td>\n",
       "      <td>bill</td>\n",
       "      <td>issue</td>\n",
       "    </tr>\n",
       "    <tr>\n",
       "      <th>Topic 4</th>\n",
       "      <td>network</td>\n",
       "      <td>issue</td>\n",
       "      <td>work</td>\n",
       "      <td>days</td>\n",
       "      <td>complaint</td>\n",
       "      <td>area</td>\n",
       "      <td>internet</td>\n",
       "      <td>give</td>\n",
       "      <td>port</td>\n",
       "      <td>month</td>\n",
       "      <td>customer</td>\n",
       "      <td>data</td>\n",
       "      <td>check</td>\n",
       "      <td>get</td>\n",
       "      <td>want</td>\n",
       "      <td>call</td>\n",
       "      <td>bill</td>\n",
       "      <td>plan</td>\n",
       "      <td>service</td>\n",
       "      <td>speed</td>\n",
       "    </tr>\n",
       "  </tbody>\n",
       "</table>\n",
       "</div>"
      ],
      "text/plain": [
       "             Word 0    Word 1 Word 2    Word 3     Word 4 Word 5    Word 6  \\\n",
       "Topic 0  connection      call  check      want       days   port      area   \n",
       "Topic 1       speed  internet   data   network       give   area     check   \n",
       "Topic 2     service      bill   port  customer       want  month      work   \n",
       "Topic 3        plan  customer   want       get       call   data     month   \n",
       "Topic 4     network     issue   work      days  complaint   area  internet   \n",
       "\n",
       "            Word 7     Word 8   Word 9   Word 10     Word 11   Word 12  \\\n",
       "Topic 0  complaint      speed  service      plan     network     month   \n",
       "Topic 1  complaint   customer     days       get        want     issue   \n",
       "Topic 2       give  complaint     days       get  connection  internet   \n",
       "Topic 3      check       give    speed   service        port   network   \n",
       "Topic 4       give       port    month  customer        data     check   \n",
       "\n",
       "        Word 13   Word 14 Word 15     Word 16    Word 17  Word 18     Word 19  \n",
       "Topic 0    give  internet     get        data   customer     bill       issue  \n",
       "Topic 1   month      call    plan        port    service     bill  connection  \n",
       "Topic 2   issue   network    plan       check       call    speed        data  \n",
       "Topic 3    area  internet    days  connection  complaint     bill       issue  \n",
       "Topic 4     get      want    call        bill       plan  service       speed  "
      ]
     },
     "execution_count": 129,
     "metadata": {},
     "output_type": "execute_result"
    }
   ],
   "source": [
    "# Topic - Keywords Dataframe\n",
    "df_topic_keywords = pd.DataFrame(topic_keywords)\n",
    "df_topic_keywords.columns = ['Word '+str(i) for i in range(df_topic_keywords.shape[1])]\n",
    "df_topic_keywords.index = ['Topic '+str(i) for i in range(df_topic_keywords.shape[0])]\n",
    "df_topic_keywords"
   ]
  },
  {
   "cell_type": "code",
   "execution_count": 145,
   "metadata": {},
   "outputs": [
    {
     "name": "stderr",
     "output_type": "stream",
     "text": [
      "C:\\Users\\Tanisha Batra\\anaconda3\\lib\\site-packages\\ipykernel\\ipkernel.py:287: DeprecationWarning: `should_run_async` will not call `transform_cell` automatically in the future. Please pass the result to `transformed_cell` argument and any exception that happen during thetransform in `preprocessing_exc_tuple` in IPython 7.17 and above.\n",
      "  and should_run_async(code)\n"
     ]
    },
    {
     "ename": "ValueError",
     "evalue": "After pruning, no terms remain. Try a lower min_df or a higher max_df.",
     "output_type": "error",
     "traceback": [
      "\u001b[1;31m---------------------------------------------------------------------------\u001b[0m",
      "\u001b[1;31mValueError\u001b[0m                                Traceback (most recent call last)",
      "\u001b[1;32m<ipython-input-145-2296659ec1e1>\u001b[0m in \u001b[0;36m<module>\u001b[1;34m\u001b[0m\n\u001b[0;32m     14\u001b[0m \u001b[1;31m#test_feature_matrix = vectorizer.fit_transform(clean_test)\u001b[0m\u001b[1;33m\u001b[0m\u001b[1;33m\u001b[0m\u001b[1;33m\u001b[0m\u001b[0m\n\u001b[0;32m     15\u001b[0m \u001b[1;33m\u001b[0m\u001b[0m\n\u001b[1;32m---> 16\u001b[1;33m \u001b[0mtestf\u001b[0m \u001b[1;33m=\u001b[0m \u001b[0mvectorizer\u001b[0m\u001b[1;33m.\u001b[0m\u001b[0mfit_transform\u001b[0m\u001b[1;33m(\u001b[0m\u001b[0mtest_df\u001b[0m\u001b[1;33m[\u001b[0m\u001b[1;34m'clean_tweet'\u001b[0m\u001b[1;33m]\u001b[0m\u001b[1;33m)\u001b[0m\u001b[1;33m.\u001b[0m\u001b[0mtoarray\u001b[0m\u001b[1;33m(\u001b[0m\u001b[1;33m)\u001b[0m\u001b[1;33m\u001b[0m\u001b[1;33m\u001b[0m\u001b[0m\n\u001b[0m\u001b[0;32m     17\u001b[0m \u001b[0mprint\u001b[0m\u001b[1;33m(\u001b[0m\u001b[1;34m\"Test Feature Matrix  \"\u001b[0m\u001b[1;33m,\u001b[0m\u001b[0mtestf\u001b[0m\u001b[1;33m)\u001b[0m\u001b[1;33m\u001b[0m\u001b[1;33m\u001b[0m\u001b[0m\n\u001b[0;32m     18\u001b[0m \u001b[0mtestf_shape\u001b[0m \u001b[1;33m=\u001b[0m \u001b[0mtestf\u001b[0m\u001b[1;33m.\u001b[0m\u001b[0mshape\u001b[0m\u001b[1;33m\u001b[0m\u001b[1;33m\u001b[0m\u001b[0m\n",
      "\u001b[1;32m~\\anaconda3\\lib\\site-packages\\sklearn\\feature_extraction\\text.py\u001b[0m in \u001b[0;36mfit_transform\u001b[1;34m(self, raw_documents, y)\u001b[0m\n\u001b[0;32m   1215\u001b[0m             \u001b[1;32mif\u001b[0m \u001b[0mmax_features\u001b[0m \u001b[1;32mis\u001b[0m \u001b[1;32mnot\u001b[0m \u001b[1;32mNone\u001b[0m\u001b[1;33m:\u001b[0m\u001b[1;33m\u001b[0m\u001b[1;33m\u001b[0m\u001b[0m\n\u001b[0;32m   1216\u001b[0m                 \u001b[0mX\u001b[0m \u001b[1;33m=\u001b[0m \u001b[0mself\u001b[0m\u001b[1;33m.\u001b[0m\u001b[0m_sort_features\u001b[0m\u001b[1;33m(\u001b[0m\u001b[0mX\u001b[0m\u001b[1;33m,\u001b[0m \u001b[0mvocabulary\u001b[0m\u001b[1;33m)\u001b[0m\u001b[1;33m\u001b[0m\u001b[1;33m\u001b[0m\u001b[0m\n\u001b[1;32m-> 1217\u001b[1;33m             X, self.stop_words_ = self._limit_features(X, vocabulary,\n\u001b[0m\u001b[0;32m   1218\u001b[0m                                                        \u001b[0mmax_doc_count\u001b[0m\u001b[1;33m,\u001b[0m\u001b[1;33m\u001b[0m\u001b[1;33m\u001b[0m\u001b[0m\n\u001b[0;32m   1219\u001b[0m                                                        \u001b[0mmin_doc_count\u001b[0m\u001b[1;33m,\u001b[0m\u001b[1;33m\u001b[0m\u001b[1;33m\u001b[0m\u001b[0m\n",
      "\u001b[1;32m~\\anaconda3\\lib\\site-packages\\sklearn\\feature_extraction\\text.py\u001b[0m in \u001b[0;36m_limit_features\u001b[1;34m(self, X, vocabulary, high, low, limit)\u001b[0m\n\u001b[0;32m   1086\u001b[0m         \u001b[0mkept_indices\u001b[0m \u001b[1;33m=\u001b[0m \u001b[0mnp\u001b[0m\u001b[1;33m.\u001b[0m\u001b[0mwhere\u001b[0m\u001b[1;33m(\u001b[0m\u001b[0mmask\u001b[0m\u001b[1;33m)\u001b[0m\u001b[1;33m[\u001b[0m\u001b[1;36m0\u001b[0m\u001b[1;33m]\u001b[0m\u001b[1;33m\u001b[0m\u001b[1;33m\u001b[0m\u001b[0m\n\u001b[0;32m   1087\u001b[0m         \u001b[1;32mif\u001b[0m \u001b[0mlen\u001b[0m\u001b[1;33m(\u001b[0m\u001b[0mkept_indices\u001b[0m\u001b[1;33m)\u001b[0m \u001b[1;33m==\u001b[0m \u001b[1;36m0\u001b[0m\u001b[1;33m:\u001b[0m\u001b[1;33m\u001b[0m\u001b[1;33m\u001b[0m\u001b[0m\n\u001b[1;32m-> 1088\u001b[1;33m             raise ValueError(\"After pruning, no terms remain. Try a lower\"\n\u001b[0m\u001b[0;32m   1089\u001b[0m                              \" min_df or a higher max_df.\")\n\u001b[0;32m   1090\u001b[0m         \u001b[1;32mreturn\u001b[0m \u001b[0mX\u001b[0m\u001b[1;33m[\u001b[0m\u001b[1;33m:\u001b[0m\u001b[1;33m,\u001b[0m \u001b[0mkept_indices\u001b[0m\u001b[1;33m]\u001b[0m\u001b[1;33m,\u001b[0m \u001b[0mremoved_terms\u001b[0m\u001b[1;33m\u001b[0m\u001b[1;33m\u001b[0m\u001b[0m\n",
      "\u001b[1;31mValueError\u001b[0m: After pruning, no terms remain. Try a lower min_df or a higher max_df."
     ]
    }
   ],
   "source": [
    "# normalize the corpus\n",
    "#t1 ='@jiocare, I paid on time, why is there fine. Cancel the fine and send a new bill '\n",
    "#t2 ='@airtel I have complained so many times, but network quality is not improved. Rampant call drop'\n",
    "\n",
    "test_df= pd.read_csv(r'G:/Symbi/Dataset/TestTweets.csv',encoding='utf-8', parse_dates=[1])\n",
    "test_df= test_df[pd.notnull(test_df['Test_Tweet'])] #Delete rows where Tweet is null.\n",
    "\n",
    "test_df['clean_tweet'] = test_df.Test_Tweet.apply(clean_tweet)\n",
    "\n",
    "#clean_test = clean_tweet(test_corpus)\n",
    "#clean_test = [' '.join(text) for text in clean_test]\n",
    "#clean_test =[clean_test]\n",
    "#print(clean_test)\n",
    "#test_feature_matrix = vectorizer.fit_transform(clean_test)\n",
    "\n",
    "testf = vectorizer.fit_transform(test_df['clean_tweet']).toarray()\n",
    "print(\"Test Feature Matrix  \",testf)\n",
    "testf_shape = testf.shape\n",
    "print(\"Test Feature Matrix shape is :\",testf_shape)\n",
    "\n",
    "test_feature_names = vectorizer.get_feature_names()\n",
    "print(\"Feature names are : \",test_feature_names)\n",
    "\n",
    "testfidf_transformer=TfidfTransformer(smooth_idf=True,use_idf=True) \n",
    "testfidf_transformer.fit(testf)\n",
    "#this transformation is not needed for NMF \n",
    "\n",
    "# print idf values \n",
    "test_idf = pd.DataFrame(testfidf_transformer.idf_, index=vectorizer.get_feature_names(),columns=[\"idf_weights\"]) \n",
    " \n",
    "# sort ascending \n",
    "test_idf.sort_values(by=['idf_weights'])\n",
    "\n",
    "test_lda_output = model3.transform(testf)\n",
    "# column names\n",
    "test_topicnames = ['Topic_' + str(i) for i in range(model3.n_components)]\n",
    "\n",
    "# index names\n",
    "test_docnames = ['Doc_' + str(i) for i in range(len(clean_test))]\n",
    "\n",
    "# create a dataframe\n",
    "test_df_document_topic = pd.DataFrame(np.round(test_lda_output,2), columns=test_topicnames, index=test_docnames)\n",
    "\n",
    "# dominant topic\n",
    "test_df_document_topic['dominant_topic'] = np.argmax(test_df_document_topic.values, axis=1)\n",
    "test_df_document_topic.head()\n",
    "\n",
    "#print(clean_test_corpus)"
   ]
  },
  {
   "cell_type": "code",
   "execution_count": 137,
   "metadata": {},
   "outputs": [
    {
     "name": "stderr",
     "output_type": "stream",
     "text": [
      "C:\\Users\\Tanisha Batra\\anaconda3\\lib\\site-packages\\ipykernel\\ipkernel.py:287: DeprecationWarning: `should_run_async` will not call `transform_cell` automatically in the future. Please pass the result to `transformed_cell` argument and any exception that happen during thetransform in `preprocessing_exc_tuple` in IPython 7.17 and above.\n",
      "  and should_run_async(code)\n"
     ]
    },
    {
     "name": "stdout",
     "output_type": "stream",
     "text": [
      "['area', 'bill', 'call', 'check', 'complaint', 'connection', 'customer', 'data', 'days', 'get', 'give', 'internet', 'issue', 'month', 'network', 'plan', 'port', 'service', 'speed', 'want', 'work']\n",
      "[[0 0 0 ... 0 0 0]\n",
      " [0 0 0 ... 0 0 0]\n",
      " [0 0 0 ... 0 0 0]\n",
      " ...\n",
      " [0 0 1 ... 0 1 0]\n",
      " [0 0 0 ... 0 0 0]\n",
      " [0 0 1 ... 0 0 0]]\n"
     ]
    },
    {
     "data": {
      "text/html": [
       "\n",
       "<link rel=\"stylesheet\" type=\"text/css\" href=\"https://cdn.jsdelivr.net/gh/bmabey/pyLDAvis@3.3.1/pyLDAvis/js/ldavis.v1.0.0.css\">\n",
       "\n",
       "\n",
       "<div id=\"ldavis_el2989622433546903849434896579\"></div>\n",
       "<script type=\"text/javascript\">\n",
       "\n",
       "var ldavis_el2989622433546903849434896579_data = {\"mdsDat\": {\"x\": [150.22215270996094, 51.16336441040039, -73.1445541381836, -66.4101333618164, 54.41732406616211], \"y\": [-72.2695541381836, -159.968017578125, 21.523815155029297, -110.60643768310547, 12.44344425201416], \"topics\": [1, 2, 3, 4, 5], \"cluster\": [1, 1, 1, 1, 1], \"Freq\": [22.952638593098023, 22.676653515609374, 21.878745459688574, 17.18426111383485, 15.307701317769176]}, \"tinfo\": {\"Term\": [\"service\", \"speed\", \"network\", \"connection\", \"call\", \"plan\", \"internet\", \"customer\", \"issue\", \"bill\", \"data\", \"get\", \"want\", \"port\", \"days\", \"work\", \"check\", \"complaint\", \"area\", \"month\", \"give\", \"issue\", \"network\", \"complaint\", \"work\", \"days\", \"area\", \"give\", \"internet\", \"port\", \"month\", \"check\", \"get\", \"bill\", \"data\", \"plan\", \"want\", \"connection\", \"speed\", \"customer\", \"call\", \"service\", \"plan\", \"get\", \"customer\", \"want\", \"month\", \"data\", \"call\", \"check\", \"give\", \"area\", \"complaint\", \"work\", \"days\", \"bill\", \"port\", \"issue\", \"internet\", \"connection\", \"speed\", \"network\", \"service\", \"service\", \"bill\", \"port\", \"month\", \"customer\", \"work\", \"give\", \"want\", \"complaint\", \"area\", \"check\", \"get\", \"days\", \"issue\", \"data\", \"plan\", \"internet\", \"connection\", \"speed\", \"call\", \"network\", \"speed\", \"internet\", \"data\", \"give\", \"area\", \"check\", \"complaint\", \"network\", \"month\", \"get\", \"work\", \"days\", \"bill\", \"port\", \"issue\", \"plan\", \"want\", \"connection\", \"customer\", \"call\", \"service\", \"connection\", \"call\", \"check\", \"days\", \"want\", \"port\", \"area\", \"give\", \"month\", \"complaint\", \"get\", \"work\", \"bill\", \"issue\", \"data\", \"plan\", \"internet\", \"speed\", \"customer\", \"network\", \"service\"], \"Freq\": [88.0, 56.0, 86.0, 51.0, 66.0, 44.0, 51.0, 62.0, 34.0, 27.0, 36.0, 23.0, 49.0, 34.0, 26.0, 24.0, 22.0, 22.0, 21.0, 19.0, 19.0, 34.89903355432423, 77.97757006990356, 17.010049654889027, 19.195334190231975, 18.84582292298922, 13.030453581666178, 4.646715683706454, 10.040884724483735, 2.668081041211682, 1.4938853745494636, 0.00996830435713349, 0.00996830435713349, 0.00996830435713349, 0.00996830435713349, 0.00996830435713349, 0.00996830435713349, 0.00996830435713349, 0.00996830435713349, 0.00996830435713349, 0.00996830435713349, 0.00996830435713349, 44.910441955723755, 23.436203246183958, 44.68331704412661, 29.53915607350709, 10.083266780566667, 12.967605747395327, 23.435674273357456, 5.611921429513459, 2.7289333594405845, 0.009761017595245341, 0.009761017595245341, 0.009761017595245341, 0.009761017595245341, 0.009761017595245341, 0.009761017595245341, 0.009761017595245341, 0.009761017595245341, 0.009761017595245341, 0.009761017595245341, 0.009761017595245341, 0.009761017595245341, 88.7445997337568, 27.312781436573175, 25.687759058117518, 7.997082631053847, 17.788592897960804, 5.620164504318048, 4.296040665194282, 10.271875143401475, 2.7279638962789705, 0.009751082269394246, 0.009751082269394246, 0.009751082269394246, 0.009751082269394246, 0.009751082269394246, 0.009751082269394246, 0.009751082269394246, 0.009751082269394246, 0.009751082269394246, 0.009751082269394246, 0.009751082269394246, 0.009751082269394246, 56.90843260036529, 41.32579357239065, 23.519500859147136, 7.424741221247224, 5.139248692965748, 4.916137121608609, 2.2430915666822346, 8.063482278473666, 0.01034510681700879, 0.01034510681700879, 0.01034510681700879, 0.01034510681700879, 0.01034510681700879, 0.01034510681700879, 0.01034510681700879, 0.01034510681700879, 0.01034510681700879, 0.01034510681700879, 0.01034510681700879, 0.01034510681700879, 0.01034510681700879, 51.673789214080045, 43.40819612362443, 11.912086902544825, 7.350939147739831, 9.540731013229626, 6.209885528384834, 3.089792869902281, 0.010332691304555114, 0.010332691304555114, 0.010332691304555426, 0.010332691304555114, 0.010332691304555114, 0.010332691304555114, 0.010332691304555114, 0.010332691304555114, 0.010332691304555114, 0.010332691304555114, 0.010332691304555114, 0.010332691304555114, 0.010332691304555114, 0.010332691304555114], \"Total\": [88.0, 56.0, 86.0, 51.0, 66.0, 44.0, 51.0, 62.0, 34.0, 27.0, 36.0, 23.0, 49.0, 34.0, 26.0, 24.0, 22.0, 22.0, 21.0, 19.0, 19.0, 34.93922345231043, 86.07089713954642, 22.001198826750034, 24.845937510266833, 26.2266192774107, 21.279007244398848, 19.106763620893098, 51.39652308804358, 34.58583175212629, 19.594912584291542, 22.45986484029342, 23.47660043093205, 27.35318855664712, 36.51715868447354, 44.95083914047184, 49.37207564131233, 51.71361472511883, 56.948245695891615, 62.502556044566106, 66.87393489042542, 88.78500685383075, 44.95083914047184, 23.47660043093205, 62.502556044566106, 49.37207564131233, 19.594912584291542, 36.51715868447354, 66.87393489042542, 22.45986484029342, 19.106763620893098, 21.279007244398848, 22.001198826750034, 24.845937510266833, 26.2266192774107, 27.35318855664712, 34.58583175212629, 34.93922345231043, 51.39652308804358, 51.71361472511883, 56.948245695891615, 86.07089713954642, 88.78500685383075, 88.78500685383075, 27.35318855664712, 34.58583175212629, 19.594912584291542, 62.502556044566106, 24.845937510266833, 19.106763620893098, 49.37207564131233, 22.001198826750034, 21.279007244398848, 22.45986484029342, 23.47660043093205, 26.2266192774107, 34.93922345231043, 36.51715868447354, 44.95083914047184, 51.39652308804358, 51.71361472511883, 56.948245695891615, 66.87393489042542, 86.07089713954642, 56.948245695891615, 51.39652308804358, 36.51715868447354, 19.106763620893098, 21.279007244398848, 22.45986484029342, 22.001198826750034, 86.07089713954642, 19.594912584291542, 23.47660043093205, 24.845937510266833, 26.2266192774107, 27.35318855664712, 34.58583175212629, 34.93922345231043, 44.95083914047184, 49.37207564131233, 51.71361472511883, 62.502556044566106, 66.87393489042542, 88.78500685383075, 51.71361472511883, 66.87393489042542, 22.45986484029342, 26.2266192774107, 49.37207564131233, 34.58583175212629, 21.279007244398848, 19.106763620893098, 19.594912584291542, 22.001198826750034, 23.47660043093205, 24.845937510266833, 27.35318855664712, 34.93922345231043, 36.51715868447354, 44.95083914047184, 51.39652308804358, 56.948245695891615, 62.502556044566106, 86.07089713954642, 88.78500685383075], \"Category\": [\"Default\", \"Default\", \"Default\", \"Default\", \"Default\", \"Default\", \"Default\", \"Default\", \"Default\", \"Default\", \"Default\", \"Default\", \"Default\", \"Default\", \"Default\", \"Default\", \"Default\", \"Default\", \"Default\", \"Default\", \"Default\", \"Topic1\", \"Topic1\", \"Topic1\", \"Topic1\", \"Topic1\", \"Topic1\", \"Topic1\", \"Topic1\", \"Topic1\", \"Topic1\", \"Topic1\", \"Topic1\", \"Topic1\", \"Topic1\", \"Topic1\", \"Topic1\", \"Topic1\", \"Topic1\", \"Topic1\", \"Topic1\", \"Topic1\", \"Topic2\", \"Topic2\", \"Topic2\", \"Topic2\", \"Topic2\", \"Topic2\", \"Topic2\", \"Topic2\", \"Topic2\", \"Topic2\", \"Topic2\", \"Topic2\", \"Topic2\", \"Topic2\", \"Topic2\", \"Topic2\", \"Topic2\", \"Topic2\", \"Topic2\", \"Topic2\", \"Topic2\", \"Topic3\", \"Topic3\", \"Topic3\", \"Topic3\", \"Topic3\", \"Topic3\", \"Topic3\", \"Topic3\", \"Topic3\", \"Topic3\", \"Topic3\", \"Topic3\", \"Topic3\", \"Topic3\", \"Topic3\", \"Topic3\", \"Topic3\", \"Topic3\", \"Topic3\", \"Topic3\", \"Topic3\", \"Topic4\", \"Topic4\", \"Topic4\", \"Topic4\", \"Topic4\", \"Topic4\", \"Topic4\", \"Topic4\", \"Topic4\", \"Topic4\", \"Topic4\", \"Topic4\", \"Topic4\", \"Topic4\", \"Topic4\", \"Topic4\", \"Topic4\", \"Topic4\", \"Topic4\", \"Topic4\", \"Topic4\", \"Topic5\", \"Topic5\", \"Topic5\", \"Topic5\", \"Topic5\", \"Topic5\", \"Topic5\", \"Topic5\", \"Topic5\", \"Topic5\", \"Topic5\", \"Topic5\", \"Topic5\", \"Topic5\", \"Topic5\", \"Topic5\", \"Topic5\", \"Topic5\", \"Topic5\", \"Topic5\", \"Topic5\"], \"logprob\": [21.0, 20.0, 19.0, 18.0, 17.0, 16.0, 15.0, 14.0, 13.0, 12.0, 11.0, 10.0, 9.0, 8.0, 7.0, 6.0, 5.0, 4.0, 3.0, 2.0, 1.0, -1.7454, -0.9415, -2.4641, -2.3432, -2.3616, -2.7306, -3.7617, -2.9912, -4.3165, -4.8965, -9.9062, -9.9062, -9.9062, -9.9062, -9.9062, -9.9062, -9.9062, -9.9062, -9.9062, -9.9062, -9.9062, -1.4811, -2.1315, -1.4862, -1.9001, -2.9749, -2.7234, -2.1315, -3.5609, -4.2819, -9.9152, -9.9152, -9.9152, -9.9152, -9.9152, -9.9152, -9.9152, -9.9152, -9.9152, -9.9152, -9.9152, -9.9152, -0.7642, -1.9426, -2.004, -3.1709, -2.3714, -3.5236, -3.7923, -2.9206, -4.2464, -9.8804, -9.8804, -9.8804, -9.8804, -9.8804, -9.8804, -9.8804, -9.8804, -9.8804, -9.8804, -9.8804, -9.8804, -0.967, -1.287, -1.8506, -3.0036, -3.3716, -3.4159, -4.2006, -2.9211, -9.5797, -9.5797, -9.5797, -9.5797, -9.5797, -9.5797, -9.5797, -9.5797, -9.5797, -9.5797, -9.5797, -9.5797, -9.5797, -0.9479, -1.1222, -2.4153, -2.898, -2.6373, -3.0667, -3.7647, -9.4653, -9.4653, -9.4653, -9.4653, -9.4653, -9.4653, -9.4653, -9.4653, -9.4653, -9.4653, -9.4653, -9.4653, -9.4653, -9.4653], \"loglift\": [21.0, 20.0, 19.0, 18.0, 17.0, 16.0, 15.0, 14.0, 13.0, 12.0, 11.0, 10.0, 9.0, 8.0, 7.0, 6.0, 5.0, 4.0, 3.0, 2.0, 1.0, 1.4706, 1.373, 1.2144, 1.2137, 1.1413, 0.9813, 0.0579, -0.1612, -1.0903, -1.1022, -6.2483, -6.2926, -6.4454, -6.7344, -6.9422, -7.036, -7.0823, -7.1788, -7.2718, -7.3394, -7.6228, 1.4829, 1.4821, 1.1482, 0.9702, 0.8194, 0.4485, 0.4353, 0.097, -0.4623, -6.2032, -6.2366, -6.3582, -6.4123, -6.4544, -6.689, -6.6991, -7.0851, -7.0912, -7.1877, -7.6007, -7.6317, 1.5192, 1.5182, 1.2222, 0.6235, 0.263, 0.0333, 0.0273, -0.0503, -0.5679, -6.1684, -6.2225, -6.2667, -6.3775, -6.6643, -6.7085, -6.9163, -7.0503, -7.0564, -7.1529, -7.3135, -7.5659, 1.7605, 1.5431, 1.3212, 0.816, 0.3404, 0.242, -0.5221, -0.6066, -5.7853, -5.9661, -6.0228, -6.0768, -6.1189, -6.3535, -6.3637, -6.6156, -6.7095, -6.7558, -6.9453, -7.0129, -7.2963, 1.876, 1.4447, 1.2426, 0.6049, 0.233, 0.1595, -0.0528, -5.6457, -5.6709, -5.7867, -5.8516, -5.9083, -6.0045, -6.2492, -6.2934, -6.5012, -6.6352, -6.7378, -6.8308, -7.1508, -7.1818]}, \"token.table\": {\"Topic\": [1, 4, 5, 3, 2, 5, 2, 4, 5, 1, 3, 4, 5, 2, 3, 2, 4, 1, 5, 2, 1, 2, 3, 4, 1, 4, 1, 1, 2, 3, 1, 4, 2, 1, 3, 5, 3, 4, 2, 3, 5, 1, 3], \"Freq\": [0.6109307568106551, 0.2349733680040981, 0.14098402080245886, 0.98708784696469, 0.3439307113853262, 0.6430008951986533, 0.2671431926534076, 0.22261932721117297, 0.5342863853068152, 0.7726851674705401, 0.13635620602421294, 0.0909041373494753, 1.005537908661064, 0.7199705555707788, 0.28798822222831155, 0.35599702902206826, 0.6572252843484337, 0.7244547914860276, 0.26690439686327333, 0.9796989162747731, 0.2616874369311053, 0.15701246215866319, 0.20934994954488426, 0.36636241170354744, 0.1945656904236448, 0.7977193307369437, 1.0017394933740449, 0.05103365456203464, 0.5103365456203464, 0.4082692364962771, 0.9062296617350101, 0.09294663197282155, 1.001093658326923, 0.08674072150413338, 0.7517529197024894, 0.17348144300826676, 1.002421502839136, 1.000908795406706, 0.6076309251802521, 0.2025436417267507, 0.2025436417267507, 0.7647125407181284, 0.2414881707530932], \"Term\": [\"area\", \"area\", \"area\", \"bill\", \"call\", \"call\", \"check\", \"check\", \"check\", \"complaint\", \"complaint\", \"complaint\", \"connection\", \"customer\", \"customer\", \"data\", \"data\", \"days\", \"days\", \"get\", \"give\", \"give\", \"give\", \"give\", \"internet\", \"internet\", \"issue\", \"month\", \"month\", \"month\", \"network\", \"network\", \"plan\", \"port\", \"port\", \"port\", \"service\", \"speed\", \"want\", \"want\", \"want\", \"work\", \"work\"]}, \"R\": 21, \"lambda.step\": 0.01, \"plot.opts\": {\"xlab\": \"PC1\", \"ylab\": \"PC2\"}, \"topic.order\": [5, 4, 3, 2, 1]};\n",
       "\n",
       "function LDAvis_load_lib(url, callback){\n",
       "  var s = document.createElement('script');\n",
       "  s.src = url;\n",
       "  s.async = true;\n",
       "  s.onreadystatechange = s.onload = callback;\n",
       "  s.onerror = function(){console.warn(\"failed to load library \" + url);};\n",
       "  document.getElementsByTagName(\"head\")[0].appendChild(s);\n",
       "}\n",
       "\n",
       "if(typeof(LDAvis) !== \"undefined\"){\n",
       "   // already loaded: just create the visualization\n",
       "   !function(LDAvis){\n",
       "       new LDAvis(\"#\" + \"ldavis_el2989622433546903849434896579\", ldavis_el2989622433546903849434896579_data);\n",
       "   }(LDAvis);\n",
       "}else if(typeof define === \"function\" && define.amd){\n",
       "   // require.js is available: use it to load d3/LDAvis\n",
       "   require.config({paths: {d3: \"https://d3js.org/d3.v5\"}});\n",
       "   require([\"d3\"], function(d3){\n",
       "      window.d3 = d3;\n",
       "      LDAvis_load_lib(\"https://cdn.jsdelivr.net/gh/bmabey/pyLDAvis@3.3.1/pyLDAvis/js/ldavis.v3.0.0.js\", function(){\n",
       "        new LDAvis(\"#\" + \"ldavis_el2989622433546903849434896579\", ldavis_el2989622433546903849434896579_data);\n",
       "      });\n",
       "    });\n",
       "}else{\n",
       "    // require.js not available: dynamically load d3 & LDAvis\n",
       "    LDAvis_load_lib(\"https://d3js.org/d3.v5.js\", function(){\n",
       "         LDAvis_load_lib(\"https://cdn.jsdelivr.net/gh/bmabey/pyLDAvis@3.3.1/pyLDAvis/js/ldavis.v3.0.0.js\", function(){\n",
       "                 new LDAvis(\"#\" + \"ldavis_el2989622433546903849434896579\", ldavis_el2989622433546903849434896579_data);\n",
       "            })\n",
       "         });\n",
       "}\n",
       "</script>"
      ],
      "text/plain": [
       "<IPython.core.display.HTML object>"
      ]
     },
     "execution_count": 137,
     "metadata": {},
     "output_type": "execute_result"
    }
   ],
   "source": [
    "import pyLDAvis.sklearn\n",
    "\n",
    "dtm = np.matrix(tf)\n",
    "print(vectorizer.get_feature_names())\n",
    "print(tf)\n",
    "panel = pyLDAvis.sklearn.prepare(model3, dtm, vectorizer,mds='tsne')\n",
    "pyLDAvis.display(panel)"
   ]
  },
  {
   "cell_type": "code",
   "execution_count": null,
   "metadata": {},
   "outputs": [],
   "source": []
  }
 ],
 "metadata": {
  "kernelspec": {
   "display_name": "Python 3",
   "language": "python",
   "name": "python3"
  },
  "language_info": {
   "codemirror_mode": {
    "name": "ipython",
    "version": 3
   },
   "file_extension": ".py",
   "mimetype": "text/x-python",
   "name": "python",
   "nbconvert_exporter": "python",
   "pygments_lexer": "ipython3",
   "version": "3.8.5"
  }
 },
 "nbformat": 4,
 "nbformat_minor": 2
}
