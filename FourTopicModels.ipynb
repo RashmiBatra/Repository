{
 "cells": [
  {
   "cell_type": "code",
   "execution_count": 1,
   "metadata": {},
   "outputs": [
    {
     "name": "stderr",
     "output_type": "stream",
     "text": [
      "C:\\Users\\Tanisha Batra\\Anaconda3\\lib\\site-packages\\scipy\\sparse\\sparsetools.py:21: DeprecationWarning: `scipy.sparse.sparsetools` is deprecated!\n",
      "scipy.sparse.sparsetools is a private module for scipy.sparse, and should not be used.\n",
      "  _deprecated()\n"
     ]
    }
   ],
   "source": [
    "import matplotlib.pyplot as plt\n",
    "import pandas as pd\n",
    "import seaborn as sns\n",
    "import numpy as np\n",
    "import sklearn\n",
    "from sklearn import preprocessing\n",
    "\n",
    "import pyLDAvis\n",
    "from pprint import pprint\n",
    "\n",
    "from os import path\n",
    "#from wordcloud import WordCloud, STOPWORDS \n",
    "\n",
    "#from PIL import Image\n",
    "#from wordcloud import ImageColorGenerator\n",
    "import re\n",
    "#import pickle\n",
    "import joblib\n",
    "import spacy\n",
    "\n",
    "import re\n",
    "import nltk\n",
    "from nltk.corpus import stopwords\n",
    "from nltk.stem import WordNetLemmatizer\n",
    "import string\n",
    "import numpy as np\n",
    "from nltk import word_tokenize,sent_tokenize\n",
    "from nltk.stem.porter import PorterStemmer\n",
    "#from textblob import TextBlob\n",
    "#from vaderSentiment.vaderSentiment import SentimentIntensityAnalyzer\n",
    "import datetime\n",
    "import warnings\n",
    "import gensim\n",
    "from gensim.utils import simple_preprocess\n",
    "from gensim.parsing.preprocessing import STOPWORDS\n",
    "from bs4 import BeautifulSoup\n",
    "from gensim import corpora, models\n",
    "from gensim.models import Phrases\n",
    "from gensim.models import CoherenceModel\n",
    "from gensim.corpora.dictionary import Dictionary"
   ]
  },
  {
   "cell_type": "code",
   "execution_count": 2,
   "metadata": {},
   "outputs": [
    {
     "name": "stderr",
     "output_type": "stream",
     "text": [
      "C:\\Users\\Tanisha Batra\\Anaconda3\\lib\\site-packages\\ipykernel\\ipkernel.py:287: DeprecationWarning: `should_run_async` will not call `transform_cell` automatically in the future. Please pass the result to `transformed_cell` argument and any exception that happen during thetransform in `preprocessing_exc_tuple` in IPython 7.17 and above.\n",
      "  and should_run_async(code)\n"
     ]
    },
    {
     "name": "stdout",
     "output_type": "stream",
     "text": [
      "0       @Vodafone won't not let me port to @JioCare f...\n",
      "1            @jiocare Jio internet services depressing. \n",
      "2      @jiocare #jiofraud, no action in my complaint,...\n",
      "3      @jiocare Was recharging for Jio 999 plan. When...\n",
      "4      @jiocare It's been officially 10 days. Yet, no...\n",
      "                             ...                        \n",
      "198    I am paying about 15/-rupees per day. Your sev...\n",
      "199     @JioCare @reliancejio  Why can't we make call...\n",
      "200     @reliancejio  I want to port out of  @airteli...\n",
      "201     @JioCare  as I have Jio Pnt I can’t make any ...\n",
      "202    Jio customers are facing the problem of weak n...\n",
      "Name: Tweet, Length: 203, dtype: object\n"
     ]
    }
   ],
   "source": [
    "raw_df= pd.read_csv(r'G:/Symbi/Dataset/TelecomPOC.csv',encoding='utf-8', parse_dates=[1])\n",
    "raw_df.head()\n",
    "neg = raw_df[raw_df.Sentiment1=='Negative']\n",
    "\n",
    "neg = neg.reset_index(drop=True)\n",
    "text = neg.Tweet.dropna()\n",
    "print(text)\n",
    "\n",
    "#raw_df= raw_df[pd.notnull(raw_df['Tweet'])] #Delete rows where Tweet is null."
   ]
  },
  {
   "cell_type": "code",
   "execution_count": 3,
   "metadata": {},
   "outputs": [
    {
     "name": "stderr",
     "output_type": "stream",
     "text": [
      "C:\\Users\\Tanisha Batra\\Anaconda3\\lib\\site-packages\\ipykernel\\ipkernel.py:287: DeprecationWarning: `should_run_async` will not call `transform_cell` automatically in the future. Please pass the result to `transformed_cell` argument and any exception that happen during thetransform in `preprocessing_exc_tuple` in IPython 7.17 and above.\n",
      "  and should_run_async(code)\n",
      "<>:38: DeprecationWarning: invalid escape sequence \\s\n",
      "<>:38: DeprecationWarning: invalid escape sequence \\s\n",
      "<ipython-input-3-70120c874f52>:38: DeprecationWarning: invalid escape sequence \\s\n",
      "  txt = [re.sub('\\s+', ' ', t) for t  in txt]     # Remove new line characters\n"
     ]
    }
   ],
   "source": [
    "def clean_text(RawSentence):\n",
    "    \"\"\"\n",
    "    removing all hashtags , punctuations, stop_words  and links, also stemming words \n",
    "    \"\"\"\n",
    "        \n",
    "    txt = RawSentence.lower()\n",
    "    word_tokens = word_tokenize(txt)    \n",
    "    #word_tokens = word_tokenize(RawSentence)    \n",
    "    \n",
    "    lemma = WordNetLemmatizer()\n",
    "    nlp = spacy.load('en_core_web_sm') \n",
    "\n",
    "    stop_words = set(stopwords.words('english'))\n",
    "    stop_words.update([\"amp\", \"rt\", \"cc\"]) # adding twitter specific stop words\n",
    "    #stop_words = stop_words - set(['no', 'not','nil'])  #removing No, not, nil from stop words     \n",
    "    stop_words.update([\"worst\",\"airtelpresence\",\"sunday\",\"monday\",\"tuesday\",\"wednesday\",\"thursday\",\"friday\",\"saturday\",\"parcel\",\n",
    "                       \"weekend\",\"apparently\",\"extremely\",\"thank\",\"worse\",\"consolation\",\"shouldnt\",\"wont\",\"arent\",\"folks\",\"hathway\",\n",
    "                     \"better\", \"other\",\"instead\",\"look\",\"yesterday\",\"unacceptable\",\"miss\",\"couldnt\",\"depress\",\"let\",\"good\",\"one\",\n",
    "                     \"thank\",\"record\",\"actually\",\"frustrate\",\"correct\",\"ridiculous\",\"expect\",\"different\",\"pathetic\",\"terrible\",\n",
    "                     \"bother\",\"follow\",\"fault\",\"impossible\",\"point\",\"cover\",\"person\",\"ask\",\"speak\",\"things\",\"earlier\",\"mean\",\"select\",\"minutes\",\n",
    "                     \"horrible\",\"airtel\",\"hear\",\"current\",\"shall\",\"issue\",\"warje\",\"empty\",\"please\",\"check\",\"good\",\"give\",\"four\",\n",
    "                     \"literally\",\"years\",\"surprise\",\"compensate\",\"helpful\",\"upset\",\"excuse\",\"attention\",\"attach\",\"two\",\"three\",\n",
    "                     \"situation\",\"multiple\",\"jaipur\",\"choose\",\"company\",\"believe\",\"question\",\"anymore\",\"awful\",\"mumbai\",\"month\",\n",
    "                      \"koida\",\"completely\",\"finally\", \"waste\",\"shock\",\"annoy\",\"maybe\",\"strand\",\"mess\",\"finally\",\"proper\",\"consolation\",\n",
    "                      \"plan\",\"place\",\"apology\",\"center\",\"plan\",\"twitter\",\"promise\",\"prefer\",\"count\",\"maybe\",\"shock\",\"longer\",\"meet\",\"play\",\"development\",\n",
    "                      \"important\",\"drop\",\"break\",\"reason\", \"wont\",\"days\",\"first\",\"second\",\"third\",\"attempt\",\"officially\",\"absolutely\",\"hello\",\"yet\",\"know\",\"jio\",\n",
    "                      \"january\",\"february\",\"march\",\"april\",\"may\",\"june\",\"july\",\"august\",\"september\",\"october\",\"november\",\"december\",\"without\",\"thankyou\",\n",
    "                      \"vodafone\",\"taluk\",\"vodafoneidea\",\"vicustomercare\",\"vowifi\",\"voda\",\"reliancejio\",\"jiocare\"])\n",
    "   \n",
    "    txt = re.sub(r\"(@\\S+)\", \"\", txt)  # remove @\n",
    "    txt = re.sub(r'\\W', ' ', str(txt)) # remove all special characters including apastrophie \n",
    "    txt = txt.translate(str.maketrans(' ', ' ', string.punctuation)) # remove punctuations \n",
    "    txt = re.sub(r'\\s+[a-zA-Z]\\s+', ' ', txt)   # remove all single characters from within the text (it's -> it s then we need to remove s)\n",
    "    txt = re.sub(r'\\^[a-zA-Z]\\s+', ' ', txt) # remove all single characters from beginning of the text \n",
    "    txt = re.sub(r'\\s+', ' ', txt, flags=re.I) # Substituting multiple spaces with single space\n",
    "    txt = re.sub(r\"(http\\S+|http)\", \"\", txt) # remove links \n",
    "    #txt = re.sub(r'^b\\s+', '', txt) # generally used when text is scrapped online. 'b' is prefixed often indicating binary text. This is not reqd for us \n",
    "    txt = [re.sub('\\s+', ' ', t) for t  in txt]     # Remove new line characters\n",
    "    txt = ''.join([i for i in txt if not i.isdigit()]).strip() # remove digits ()\n",
    "    txt = ' '.join([i for i in txt.split(\" \") if i not in stop_words])   # split() is native tokenizer in Python\n",
    "    #txt = ' '.join(lemma.lemmatize(word) for word in txt.split())           # Used lemmatizer later \n",
    "    #txt = ' '.join([PorterStemmer().stem(word=word) for word in txt.split(\" \") if word not in stop_words ]) # stem & remove stop words\n",
    "    #soup = BeautifulSoup(txt) #to scrap information from web pages....not needed here\n",
    "    #txt = soup.get_text\n",
    "    \n",
    "    def deEmojify(inputString):\n",
    "        return inputString.encode('ascii', 'ignore').decode('ascii')\n",
    "    \n",
    "    def stem_tokens(tokens, lemmatize):\n",
    "        lemmatized = []\n",
    "        for item in tokens:\n",
    "            lemmatized.append(lemma.lemmatize(item,'v'))\n",
    "        return lemmatized\n",
    "    \n",
    "    txt = deEmojify(txt)\n",
    "    tokens =[]\n",
    "    \n",
    "    excluded_tags = {\"ADJ\", \"ADV\", \"ADP\", \"PROPN\",\"CCONJ\",\"AUX\",\"DET\",\"PRON\"}\n",
    "    for token in nlp(txt):\n",
    "        if token.pos_ not in excluded_tags:\n",
    "            tokens.append(token.text)\n",
    "    \n",
    "    lemm = stem_tokens(tokens, lemma)\n",
    "    #tokens = nltk.word_tokenize(txt)\n",
    "    tokens = [ch for ch in lemm if len(ch)>2] #remove words with character length below 3\n",
    "    #tokens = [ch for ch in tokens if len(ch)<=15] #remove words with character length above 15 \n",
    "    return tokens\n",
    "    "
   ]
  },
  {
   "cell_type": "code",
   "execution_count": 4,
   "metadata": {},
   "outputs": [
    {
     "name": "stderr",
     "output_type": "stream",
     "text": [
      "C:\\Users\\Tanisha Batra\\Anaconda3\\lib\\site-packages\\ipykernel\\ipkernel.py:287: DeprecationWarning: `should_run_async` will not call `transform_cell` automatically in the future. Please pass the result to `transformed_cell` argument and any exception that happen during thetransform in `preprocessing_exc_tuple` in IPython 7.17 and above.\n",
      "  and should_run_async(code)\n"
     ]
    }
   ],
   "source": [
    "#Make Bigrams and trigrams \n",
    "\n",
    "neg['token']=neg.Tweet.map(clean_text)\n",
    "docs = neg['token']\n",
    "\n",
    "# Add bigrams and trigrams to docs,minimum count 2 means only that appear 2 times or more. Higher threshold means fewer phrases\n",
    "bigram = gensim.models.Phrases(docs, min_count=2,threshold=10)\n",
    "trigram = gensim.models.Phrases(bigram[docs],threshold=100)\n",
    "\n",
    "# Faster way to get a sentence clubbed as a trigram/bigram\n",
    "bigram_mod = gensim.models.phrases.Phraser(bigram)\n",
    "trigram_mod = gensim.models.phrases.Phraser(trigram)\n",
    "\n",
    "def make_bigrams(texts):\n",
    "    return [bigram_mod[doc] for doc in texts]\n",
    "\n",
    "# Form Bigrams\n",
    "bigram_token = make_bigrams(docs)"
   ]
  },
  {
   "cell_type": "code",
   "execution_count": 6,
   "metadata": {},
   "outputs": [
    {
     "name": "stdout",
     "output_type": "stream",
     "text": [
      "Number of unique Normal Dictionary tokens: 157\n"
     ]
    }
   ],
   "source": [
    "# Creation of Dictionary and Corpus \n",
    "#%%time\n",
    "import warnings\n",
    "warnings.simplefilter('ignore')\n",
    "\n",
    "dictionary = corpora.Dictionary(bigram_token)   # Used Gensim command to create the dictionary\n",
    "dictionary.filter_extremes(no_below=3)\n",
    "\n",
    "#corpus = [dict1.doc2bow(text, allow_update=True) for text in bigram_token]    #allow_update=True was updating dictionary, so each token frequency was double\n",
    "corpus = [dictionary.doc2bow(text) for text in bigram_token]\n",
    "dictionary.save_as_text('G:/Symbi/Outcome/dictionary.txt')\n",
    "#pickle.dump(corpus, open('gensim_corpus.pkl', 'wb'))\n",
    "dictionary.save('G:/Symbi/Outcome/dictionary.gensim')\n",
    "print('Number of unique Normal Dictionary tokens: %d' % len(dictionary))\n",
    "\n",
    "# Create a dictionary representation of the documents.\n",
    "#dictionary = Dictionary(docs)   # Used Gensim dictionary\n"
   ]
  },
  {
   "cell_type": "code",
   "execution_count": 7,
   "metadata": {},
   "outputs": [],
   "source": [
    "def compute_coherence_values(dictionary, corpus, texts, start, stop):\n",
    "    \"\"\"\n",
    "    Compute c_v coherence for various number of topics\n",
    "\n",
    "    Parameters:\n",
    "    ----------\n",
    "    dictionary : Gensim dictionary\n",
    "    corpus : Gensim corpus\n",
    "    texts : List of input texts\n",
    "\n",
    "    Returns:\n",
    "    -------\n",
    "    model_list : List of LDA topic models\n",
    "    coherence_values : Coherence values corresponding to the LDA model with respective number of topics\n",
    "    \"\"\"\n",
    "  \n",
    "    coherence_values = []\n",
    "    model_list = []\n",
    "    for num_topics in range(start, stop):\n",
    "        model = gensim.models.ldamodel.LdaModel(corpus=corpus, num_topics=num_topics, id2word=dictionary, alpha='auto',\n",
    "                                                eta='auto', per_word_topics=True)\n",
    "\n",
    "        model_list.append(model)\n",
    "        coherencemodel = CoherenceModel(model=model, texts=texts, dictionary=dictionary, coherence='c_v')\n",
    "        coherence_values.append(coherencemodel.get_coherence())\n",
    "        print(coherence_values)\n",
    "        \n",
    "    return model_list, coherence_values"
   ]
  },
  {
   "cell_type": "code",
   "execution_count": 8,
   "metadata": {},
   "outputs": [
    {
     "name": "stdout",
     "output_type": "stream",
     "text": [
      "[0.2693805102231181]\n",
      "[0.2693805102231181, 0.2942764637618428]\n",
      "[0.2693805102231181, 0.2942764637618428, 0.2850240734383454]\n",
      "[0.2693805102231181, 0.2942764637618428, 0.2850240734383454, 0.3649999124089855]\n",
      "[0.2693805102231181, 0.2942764637618428, 0.2850240734383454, 0.3649999124089855, 0.3143965410124467]\n",
      "[0.2693805102231181, 0.2942764637618428, 0.2850240734383454, 0.3649999124089855, 0.3143965410124467, 0.3521736154489264]\n",
      "[0.2693805102231181, 0.2942764637618428, 0.2850240734383454, 0.3649999124089855, 0.3143965410124467, 0.3521736154489264, 0.36851862309826755]\n",
      "[0.2693805102231181, 0.2942764637618428, 0.2850240734383454, 0.3649999124089855, 0.3143965410124467, 0.3521736154489264, 0.36851862309826755, 0.32788547077601793]\n",
      "[0.2693805102231181, 0.2942764637618428, 0.2850240734383454, 0.3649999124089855, 0.3143965410124467, 0.3521736154489264, 0.36851862309826755, 0.32788547077601793, 0.3558497310698487]\n",
      "[0.2693805102231181, 0.2942764637618428, 0.2850240734383454, 0.3649999124089855, 0.3143965410124467, 0.3521736154489264, 0.36851862309826755, 0.32788547077601793, 0.3558497310698487, 0.34239230835634804]\n",
      "[0.2693805102231181, 0.2942764637618428, 0.2850240734383454, 0.3649999124089855, 0.3143965410124467, 0.3521736154489264, 0.36851862309826755, 0.32788547077601793, 0.3558497310698487, 0.34239230835634804, 0.36467669340238246]\n",
      "[0.2693805102231181, 0.2942764637618428, 0.2850240734383454, 0.3649999124089855, 0.3143965410124467, 0.3521736154489264, 0.36851862309826755, 0.32788547077601793, 0.3558497310698487, 0.34239230835634804, 0.36467669340238246, 0.38559421947153977]\n",
      "[0.2693805102231181, 0.2942764637618428, 0.2850240734383454, 0.3649999124089855, 0.3143965410124467, 0.3521736154489264, 0.36851862309826755, 0.32788547077601793, 0.3558497310698487, 0.34239230835634804, 0.36467669340238246, 0.38559421947153977, 0.3930430043840387]\n",
      "[0.2693805102231181, 0.2942764637618428, 0.2850240734383454, 0.3649999124089855, 0.3143965410124467, 0.3521736154489264, 0.36851862309826755, 0.32788547077601793, 0.3558497310698487, 0.34239230835634804, 0.36467669340238246, 0.38559421947153977, 0.3930430043840387, 0.3849961377389517]\n",
      "[0.2693805102231181, 0.2942764637618428, 0.2850240734383454, 0.3649999124089855, 0.3143965410124467, 0.3521736154489264, 0.36851862309826755, 0.32788547077601793, 0.3558497310698487, 0.34239230835634804, 0.36467669340238246, 0.38559421947153977, 0.3930430043840387, 0.3849961377389517, 0.4074327154087257]\n"
     ]
    }
   ],
   "source": [
    "start=3\n",
    "stop=18\n",
    "model_list, coherence_values = compute_coherence_values(dictionary=dictionary, \n",
    "                                                        corpus=corpus, \n",
    "                                                        texts=bigram_token,\n",
    "                                                        start=start, \n",
    "                                                        stop=stop)"
   ]
  },
  {
   "cell_type": "code",
   "execution_count": 9,
   "metadata": {},
   "outputs": [
    {
     "data": {
      "image/png": "[encoded data removed]",
      "text/plain": [
       "<Figure size 720x504 with 1 Axes>"
      ]
     },
     "metadata": {
      "needs_background": "light"
     },
     "output_type": "display_data"
    },
    {
     "name": "stdout",
     "output_type": "stream",
     "text": [
      "range(3, 18) [0.2693805102231181, 0.2942764637618428, 0.2850240734383454, 0.3649999124089855, 0.3143965410124467, 0.3521736154489264, 0.36851862309826755, 0.32788547077601793, 0.3558497310698487, 0.34239230835634804, 0.36467669340238246, 0.38559421947153977, 0.3930430043840387, 0.3849961377389517, 0.4074327154087257]\n"
     ]
    }
   ],
   "source": [
    "x = range(start, stop)\n",
    "plt.figure(figsize=(10,7))\n",
    "plt.style.use('ggplot')\n",
    "plt.plot(x, coherence_values, color = \"blue\",marker=\".\")\n",
    "plt.xlabel(\"Num Topics\", size=14)\n",
    "plt.ylabel(\"Coherence score\", size=14)\n",
    "plt.title('Choosing The Number of Topics Based on The Coherence Score',size=10)\n",
    "plt.show()\n",
    "print(x,coherence_values)"
   ]
  },
  {
   "cell_type": "code",
   "execution_count": null,
   "metadata": {},
   "outputs": [],
   "source": [
    "vectorizer = CountVectorizer()\n",
    "data_vectorized = vectorizer.fit_transform(df['lemmas_back_to_text'])"
   ]
  },
  {
   "cell_type": "code",
   "execution_count": 10,
   "metadata": {},
   "outputs": [
    {
     "name": "stdout",
     "output_type": "stream",
     "text": [
      "[(0,\n",
      "  '0.215*\"speed\" + 0.115*\"use\" + 0.099*\"customers\" + 0.095*\"port\" + '\n",
      "  '0.086*\"work\" + 0.056*\"jiofiber\" + 0.053*\"see\" + 0.045*\"mbps\" + '\n",
      "  '0.040*\"switch\" + 0.023*\"till\"'),\n",
      " (1,\n",
      "  '0.179*\"want_port\" + 0.149*\"customer\" + 0.082*\"thing\" + 0.056*\"wait\" + '\n",
      "  '0.053*\"check\" + 0.050*\"deduct\" + 0.047*\"solve\" + 0.040*\"complaints\" + '\n",
      "  '0.037*\"register\" + 0.025*\"respond\"'),\n",
      " (2,\n",
      "  '0.188*\"operator\" + 0.133*\"try\" + 0.094*\"customer_care\" + 0.087*\"follow\" + '\n",
      "  '0.056*\"find\" + 0.055*\"message\" + 0.049*\"everytime\" + 0.046*\"visit\" + '\n",
      "  '0.004*\"refund\" + 0.004*\"priority\"'),\n",
      " (3,\n",
      "  '0.213*\"take\" + 0.162*\"support\" + 0.126*\"detail\" + 0.090*\"village\" + '\n",
      "  '0.064*\"router\" + 0.043*\"connect\" + 0.038*\"say\" + 0.029*\"stop\" + '\n",
      "  '0.021*\"contact\" + 0.019*\"location\"'),\n",
      " (4,\n",
      "  '0.245*\"area\" + 0.129*\"help\" + 0.096*\"thank\" + 0.071*\"pls\" + 0.059*\"move\" + '\n",
      "  '0.031*\"store\" + 0.030*\"feel\" + 0.030*\"bill\" + 0.027*\"seem\" + 0.027*\"week\"'),\n",
      " (5,\n",
      "  '0.234*\"number\" + 0.070*\"care\" + 0.061*\"months\" + 0.060*\"need\" + '\n",
      "  '0.060*\"resolve\" + 0.060*\"reach\" + 0.047*\"issue\" + 0.044*\"year\" + '\n",
      "  '0.042*\"update\" + 0.042*\"phone\"'),\n",
      " (6,\n",
      "  '0.545*\"network\" + 0.104*\"get\" + 0.051*\"data\" + 0.041*\"fix\" + 0.036*\"since\" '\n",
      "  '+ 0.033*\"give\" + 0.025*\"leave\" + 0.023*\"happen\" + 0.021*\"change\" + '\n",
      "  '0.012*\"weeks\"'),\n",
      " (7,\n",
      "  '0.265*\"internet\" + 0.227*\"service\" + 0.129*\"call\" + 0.044*\"amount\" + '\n",
      "  '0.031*\"provide\" + 0.026*\"executive\" + 0.025*\"broadband\" + 0.023*\"complaint\" '\n",
      "  '+ 0.023*\"house\" + 0.021*\"watch\"'),\n",
      " (8,\n",
      "  '0.100*\"face\" + 0.091*\"make_call\" + 0.083*\"recharge\" + 0.058*\"time\" + '\n",
      "  '0.054*\"pay\" + 0.049*\"fiber\" + 0.045*\"people\" + 0.045*\"problem\" + '\n",
      "  '0.044*\"day\" + 0.044*\"connection\"')]\n",
      "Wall time: 779 ms\n"
     ]
    }
   ],
   "source": [
    "%%time\n",
    "\n",
    "# Build LDA model\n",
    "\n",
    "# Set parameters.\n",
    "num_topics = 9  #number of topics. Each topic is combination of keywords. Each keyword contributes a certain weightage to topics\n",
    "chunksize = 5    #number of documents to be used in each training chunk\n",
    "passes = 5       #total number of training passes through the corpus .\n",
    "iterations = 25  #Maximum number of iterations through the corpus when inferring the topic distribution of a corpus. Higher value aids to reproducability because it is closer to convergence\n",
    "eval_every = 1   #how often the model parameters should be updated\n",
    "#alpha = document- topic density \n",
    "#eta = topic - keyword density\n",
    "\n",
    "lda_model4 = gensim.models.ldamodel.LdaModel(corpus=corpus,num_topics=num_topics,\n",
    "                                           id2word=dictionary,alpha='auto',eta='auto',chunksize=5,iterations=iterations,passes=5,\n",
    "                                           eval_every=1)\n",
    "                                           #random_state=12,\n",
    "\n",
    "pprint(lda_model4.print_topics())\n",
    "#doc_lda = lda_model1[corpus]\n",
    "\n",
    "#lda_model4.show_topic(5)\n",
    "lda_model4.save('G:/Symbi/Outcome/lda_model1.model')\n",
    "lda_model4=models.LdaModel.load('G:/Symbi/Outcome/lda_model1.model')"
   ]
  },
  {
   "cell_type": "code",
   "execution_count": 11,
   "metadata": {},
   "outputs": [
    {
     "name": "stdout",
     "output_type": "stream",
     "text": [
      "\n",
      "Perplexity:  -5.406232156440264\n",
      "\n",
      "Coherence Score:  0.5562388125289766\n"
     ]
    }
   ],
   "source": [
    "# Compute Perplexity\n",
    "print('\\nPerplexity: ', lda_model4.log_perplexity(corpus))  # a measure of how good the model is. lower the better.\n",
    "\n",
    "# Compute Coherence Score\n",
    "coherence_model_lda = CoherenceModel(model=lda_model4, texts=bigram_token, dictionary=dictionary, coherence='c_v')\n",
    "coherence_lda = coherence_model_lda.get_coherence()\n",
    "print('\\nCoherence Score: ', coherence_lda)"
   ]
  },
  {
   "cell_type": "code",
   "execution_count": 13,
   "metadata": {},
   "outputs": [
    {
     "name": "stdout",
     "output_type": "stream",
     "text": [
      "[(0, 0.13374352), (1, 0.045921452), (2, 0.028589858), (3, 0.050820466), (4, 0.16711617), (5, 0.10812767), (6, 0.114592664), (7, 0.15809737), (8, 0.19299084)]\n"
     ]
    }
   ],
   "source": [
    "# Testing model on unseen document\n",
    "test_doc = '@Jiocare, my bill is not overdue, please remove the fine'\n",
    "test_doc = clean_text(test_doc)\n",
    "bow_test_doc = dictionary.doc2bow(test_doc)\n",
    "\n",
    "print(lda_model4.get_document_topics(bow_test_doc))"
   ]
  },
  {
   "cell_type": "code",
   "execution_count": 15,
   "metadata": {},
   "outputs": [
    {
     "name": "stdout",
     "output_type": "stream",
     "text": [
      "(0, '-0.661*\"network\" + -0.364*\"service\" + -0.250*\"internet\" + -0.209*\"speed\" + -0.185*\"time\"')\n",
      "(1, '0.663*\"service\" + -0.586*\"network\" + 0.161*\"call\" + 0.149*\"get\" + 0.131*\"customer\"')\n",
      "(2, '-0.706*\"speed\" + -0.428*\"internet\" + 0.307*\"service\" + 0.304*\"network\" + -0.137*\"mbps\"')\n",
      "(3, '0.407*\"speed\" + -0.378*\"call\" + 0.302*\"service\" + -0.253*\"internet\" + -0.238*\"work\"')\n",
      "(4, '-0.446*\"internet\" + 0.440*\"get\" + 0.335*\"data\" + 0.293*\"call\" + -0.279*\"service\"')\n",
      "(5, '0.385*\"call\" + 0.362*\"speed\" + -0.345*\"get\" + -0.314*\"internet\" + -0.311*\"use\"')\n",
      "(6, '0.536*\"number\" + -0.400*\"call\" + 0.344*\"time\" + -0.181*\"internet\" + -0.176*\"try\"')\n",
      "(7, '-0.533*\"number\" + 0.323*\"time\" + -0.259*\"data\" + -0.234*\"use\" + -0.222*\"connection\"')\n",
      "(8, '-0.633*\"time\" + 0.359*\"problem\" + 0.266*\"face\" + 0.181*\"number\" + 0.180*\"help\"')\n",
      "Wall time: 72.1 ms\n"
     ]
    }
   ],
   "source": [
    "%%time\n",
    "\n",
    "#Preparation of LSI Model and coherence computation\n",
    "\n",
    "from gensim.models import LsiModel\n",
    "\n",
    "lsi_model = LsiModel(corpus, num_topics=9, id2word=dictionary)\n",
    "topics = lsi_model.print_topics(num_words=5)\n",
    "for topic in topics:\n",
    "    print(topic)\n",
    "    "
   ]
  },
  {
   "cell_type": "code",
   "execution_count": 16,
   "metadata": {},
   "outputs": [
    {
     "name": "stdout",
     "output_type": "stream",
     "text": [
      "\n",
      "Coherence Score:  0.3831024873862081\n"
     ]
    }
   ],
   "source": [
    "# Compute Coherence Score\n",
    "coherence_model_lsi = CoherenceModel(model=lsi_model, texts=bigram_token, dictionary=dictionary, coherence='c_v')\n",
    "coherence_lsi = coherence_model_lsi.get_coherence()\n",
    "print('\\nCoherence Score: ', coherence_lsi)"
   ]
  },
  {
   "cell_type": "code",
   "execution_count": 17,
   "metadata": {},
   "outputs": [
    {
     "name": "stdout",
     "output_type": "stream",
     "text": [
      "(0, '0.129*\"resolve\" + 0.099*\"store\" + 0.086*\"contact\" + 0.053*\"week\" + 0.052*\"pass\"')\n",
      "(1, '0.106*\"call\" + 0.074*\"work\" + 0.071*\"say\" + 0.071*\"problem\" + 0.063*\"face\"')\n",
      "(2, '0.144*\"data\" + 0.121*\"get\" + 0.069*\"use\" + 0.058*\"customer\" + 0.053*\"activate\"')\n",
      "(3, '0.345*\"network\" + 0.063*\"internet\" + 0.035*\"face\" + 0.031*\"use\" + 0.030*\"port\"')\n",
      "(4, '0.133*\"complaint\" + 0.092*\"complain\" + 0.089*\"time\" + 0.077*\"take\" + 0.051*\"action\"')\n",
      "(5, '0.325*\"speed\" + 0.094*\"internet\" + 0.061*\"mbps\" + 0.048*\"get\" + 0.025*\"time\"')\n",
      "(6, '0.313*\"number\" + 0.077*\"send\" + 0.046*\"want_port\" + 0.040*\"sms\" + 0.034*\"time\"')\n",
      "(7, '0.307*\"service\" + 0.046*\"port\" + 0.033*\"pay\" + 0.030*\"customer\" + 0.029*\"provide\"')\n",
      "(8, '0.143*\"try\" + 0.121*\"call\" + 0.090*\"recharge\" + 0.043*\"connectivity\" + 0.042*\"need\"')\n",
      "Wall time: 709 ms\n"
     ]
    }
   ],
   "source": [
    "%%time\n",
    "\n",
    "# NMF Topic model\n",
    "\n",
    "from gensim.test.utils import common_texts\n",
    "\n",
    "from gensim.models import TfidfModel\n",
    "from gensim.models.basemodel import BaseTopicModel\n",
    "from gensim.models.nmf import Nmf as GensimNmf\n",
    "\n",
    "nmf = GensimNmf(\n",
    "    corpus=corpus,\n",
    "    num_topics=9,\n",
    "    id2word=dictionary,\n",
    "    chunksize=10,\n",
    "    passes=5,\n",
    "    eval_every=10,\n",
    "    minimum_probability=0,\n",
    "    #random_state=0,\n",
    "    kappa=1,\n",
    ")\n",
    "topics = nmf.print_topics(num_words=5)\n",
    "for topic in topics:\n",
    "    print(topic)\n",
    "    \n",
    "#nmf.show_topics()"
   ]
  },
  {
   "cell_type": "code",
   "execution_count": 24,
   "metadata": {},
   "outputs": [
    {
     "name": "stdout",
     "output_type": "stream",
     "text": [
      "\n",
      "Coherence Score C_V:  0.3742144313029197\n",
      "\n",
      "Coherence Score U MASS:  -12.230940030478564\n"
     ]
    }
   ],
   "source": [
    "# Compute Coherence Score\n",
    "coherence_model_nmf = CoherenceModel(model=nmf, texts=bigram_token, dictionary=dictionary, coherence='c_v')\n",
    "coherence_nmf_umass = CoherenceModel(model=nmf, texts=bigram_token, dictionary=dictionary, coherence='u_mass')\n",
    "coherence_nmf_cv = coherence_model_nmf.get_coherence()\n",
    "coherence_nmf_umass = coherence_nmf_umass.get_coherence()\n",
    "\n",
    "print('\\nCoherence Score C_V: ', coherence_nmf_cv)\n",
    "print('\\nCoherence Score U MASS: ', coherence_nmf_umass)"
   ]
  },
  {
   "cell_type": "code",
   "execution_count": 26,
   "metadata": {},
   "outputs": [
    {
     "name": "stdout",
     "output_type": "stream",
     "text": [
      "[(0,\n",
      "  '0.020*house + 0.017*ask + 0.016*area + 0.016*time + 0.016*data + '\n",
      "  '0.015*choose + 0.014*reach + 0.013*stop + 0.013*installation + '\n",
      "  '0.013*network'),\n",
      " (1,\n",
      "  '0.031*charge + 0.023*log + 0.020*hours + 0.015*advertise + 0.015*plz + '\n",
      "  '0.015*complaint + 0.014*reference + 0.014*fiber_connection + 0.014*customer '\n",
      "  '+ 0.014*wfh'),\n",
      " (2,\n",
      "  '0.028*months + 0.022*struggle + 0.020*work + 0.019*pls + 0.017*money + '\n",
      "  '0.016*since + 0.015*action + 0.014*provide + 0.014*register + 0.014*stay'),\n",
      " (3,\n",
      "  '0.028*raise + 0.023*internet + 0.019*hrs + 0.018*loot + 0.018*app + '\n",
      "  '0.015*pick + 0.014*money + 0.014*give + 0.013*till + 0.013*pls'),\n",
      " (4,\n",
      "  '0.019*stay + 0.019*till + 0.018*matter + 0.018*visit + 0.017*everytime + '\n",
      "  '0.017*team + 0.015*seem + 0.015*attach + 0.013*request + '\n",
      "  '0.013*installation'),\n",
      " (5,\n",
      "  '0.022*minimum + 0.018*access + 0.018*fix + 0.017*speed + 0.017*amount + '\n",
      "  '0.016*reference + 0.014*sms + 0.014*share + 0.013*week + 0.013*stop'),\n",
      " (6,\n",
      "  '0.025*return_money + 0.018*fiber + 0.015*know + 0.015*action + 0.015*move + '\n",
      "  '0.014*night + 0.014*message + 0.014*time + 0.013*plz + 0.013*register'),\n",
      " (7,\n",
      "  '0.026*voice + 0.021*card + 0.020*support + 0.020*executive + 0.020*service '\n",
      "  '+ 0.018*throttle + 0.017*suffer + 0.016*show + 0.016*phone + 0.014*warn'),\n",
      " (8,\n",
      "  '0.025*complaints + 0.019*even + 0.018*action + 0.017*complain + '\n",
      "  '0.017*reference + 0.015*cable + 0.015*india + 0.014*port + 0.014*log + '\n",
      "  '0.014*quality'),\n",
      " (9,\n",
      "  '0.031*upgrade + 0.023*service + 0.019*app + 0.019*pending + 0.019*payment + '\n",
      "  '0.018*make_call + 0.018*loot + 0.018*activate + 0.016*warn + '\n",
      "  '0.016*recharge'),\n",
      " (10,\n",
      "  '0.029*solve + 0.027*today + 0.022*want_port + 0.020*move + 0.019*min + '\n",
      "  '0.019*action + 0.016*receive + 0.016*fibre + 0.015*end + 0.015*start'),\n",
      " (11,\n",
      "  '0.027*attach + 0.023*voice + 0.016*time + 0.016*say + 0.016*see + '\n",
      "  '0.015*year + 0.015*connection + 0.014*need + 0.012*whatsapp + '\n",
      "  '0.012*although'),\n",
      " (12,\n",
      "  '0.026*village + 0.026*jiofiber + 0.024*advertise + 0.022*work_since + '\n",
      "  '0.017*give + 0.017*reach + 0.017*reply + 0.015*store + 0.015*share + '\n",
      "  '0.014*know'),\n",
      " (13,\n",
      "  '0.024*cap + 0.021*option + 0.019*lockdown + 0.019*make + 0.019*internet + '\n",
      "  '0.018*handle + 0.016*visit + 0.015*log + 0.015*return + 0.015*customers'),\n",
      " (14,\n",
      "  '0.022*home + 0.021*auto + 0.019*get + 0.019*months + 0.015*come + '\n",
      "  '0.015*week + 0.015*confirmation + 0.014*although + 0.014*deduct + '\n",
      "  '0.014*speed'),\n",
      " (15,\n",
      "  '0.019*although + 0.018*pending + 0.018*put + 0.018*request + 0.016*number + '\n",
      "  '0.016*access + 0.015*technician + 0.014*hey + 0.014*talk + 0.013*priority'),\n",
      " (16,\n",
      "  '0.024*amount + 0.021*access + 0.021*speed + 0.017*watch + 0.015*give + '\n",
      "  '0.015*find + 0.014*throttle + 0.014*connectivity + 0.014*sms + 0.013*home'),\n",
      " (17,\n",
      "  '0.023*service + 0.022*send + 0.019*start + 0.016*class + 0.016*attach + '\n",
      "  '0.015*sms + 0.015*advance + 0.015*customers + 0.015*request + 0.015*fibre'),\n",
      " (18,\n",
      "  '0.021*balance + 0.020*make + 0.019*customer + 0.019*download + 0.018*hrs + '\n",
      "  '0.016*lose + 0.015*guy + 0.014*prepay + 0.014*activate + 0.014*app'),\n",
      " (19,\n",
      "  '0.022*access + 0.019*advance + 0.019*tower + 0.018*day + 0.017*find + '\n",
      "  '0.015*failure + 0.015*operator + 0.014*service + 0.014*pick + 0.014*app')]\n",
      "Wall time: 266 ms\n"
     ]
    }
   ],
   "source": [
    "%%time\n",
    "\n",
    "from gensim.models import HdpModel\n",
    "Hdp_model = gensim.models.hdpmodel.HdpModel(corpus=corpus, id2word=dictionary,chunksize=10,kappa=1)\n",
    "pprint(Hdp_model.print_topics())"
   ]
  },
  {
   "cell_type": "code",
   "execution_count": 27,
   "metadata": {},
   "outputs": [
    {
     "name": "stdout",
     "output_type": "stream",
     "text": [
      "\n",
      "Coherence Score C_V:  0.7095473028994298\n"
     ]
    }
   ],
   "source": [
    "# Compute Coherence Score\n",
    "coherence_model_hdp = CoherenceModel(model=Hdp_model, texts=bigram_token, dictionary=dictionary, coherence='c_v')\n",
    "coherence_hdp_cv = coherence_model_hdp.get_coherence()\n",
    "print('\\nCoherence Score C_V: ', coherence_hdp_cv)"
   ]
  },
  {
   "cell_type": "code",
   "execution_count": null,
   "metadata": {},
   "outputs": [],
   "source": []
  }
 ],
 "metadata": {
  "kernelspec": {
   "display_name": "Python (myenv)",
   "language": "python",
   "name": "myenv"
  },
  "language_info": {
   "codemirror_mode": {
    "name": "ipython",
    "version": 3
   },
   "file_extension": ".py",
   "mimetype": "text/x-python",
   "name": "python",
   "nbconvert_exporter": "python",
   "pygments_lexer": "ipython3",
   "version": "3.8.5"
  }
 },
 "nbformat": 4,
 "nbformat_minor": 4
}
